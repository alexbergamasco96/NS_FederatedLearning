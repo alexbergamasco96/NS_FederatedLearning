{
 "cells": [
  {
   "cell_type": "markdown",
   "metadata": {},
   "source": [
    "# Modular Multi-Iteration Comparison between FedAVG and our Linear Regression Federated algorithm\n",
    "\n",
    "In this notebook you can perform a comparison between the two algorithms over an average of different executions (*iterations*) over the same task.\n",
    "\n",
    "A synthetic dataset is recreated at each iteration, keeping the parameters to be estimated unchanged."
   ]
  },
  {
   "cell_type": "code",
   "execution_count": 25,
   "metadata": {
    "scrolled": true
   },
   "outputs": [
    {
     "data": {
      "text/plain": [
       "<torch._C.Generator at 0x7f43972d2b58>"
      ]
     },
     "execution_count": 25,
     "metadata": {},
     "output_type": "execute_result"
    }
   ],
   "source": [
    "import torch\n",
    "import torch.nn as nn\n",
    "import torch.nn.functional as F\n",
    "\n",
    "\n",
    "import os\n",
    "import numpy as np\n",
    "import math\n",
    "\n",
    "from Stationary.core import *\n",
    "from Stationary.utils import *\n",
    "\n",
    "from sklearn import linear_model, datasets\n",
    "from sklearn.metrics import mean_squared_error, r2_score\n",
    "\n",
    "import matplotlib.pyplot as plt\n",
    "\n",
    "\n",
    "\n",
    "np.random.seed(0)\n",
    "torch.manual_seed(0)"
   ]
  },
  {
   "cell_type": "markdown",
   "metadata": {},
   "source": [
    "## Neural Network model for FedAVG"
   ]
  },
  {
   "cell_type": "code",
   "execution_count": 36,
   "metadata": {},
   "outputs": [],
   "source": [
    "import torch.nn.functional as F\n",
    "import copy\n",
    "\n",
    "class customModel(torch.nn.Module):\n",
    "    \n",
    "    def __init__(self, inputSize, outputSize, H = 10):\n",
    "        \n",
    "        super(customModel, self).__init__()\n",
    "        self.linear = torch.nn.Linear(inputSize, H, bias=True)\n",
    "        self.linear2 = torch.nn.Linear(H, outputSize)\n",
    "\n",
    "        \n",
    "    def forward(self, x):\n",
    "        x = F.relu(self.linear(x))\n",
    "        x = self.linear2(x)\n",
    "        return x"
   ]
  },
  {
   "cell_type": "markdown",
   "metadata": {},
   "source": [
    "## Parameters"
   ]
  },
  {
   "cell_type": "code",
   "execution_count": 37,
   "metadata": {},
   "outputs": [],
   "source": [
    "#-----Federated Parameters\n",
    "num_workers = 4\n",
    "num_rounds = 20\n",
    "\n",
    "\n",
    "#-----Linear Regression Parameters\n",
    "m = -2.1\n",
    "c = 1\n",
    "\n",
    "\n",
    "\n",
    "#-----FedAVG Parameters\n",
    "learning_rate = 1e-3\n",
    "local_epochs = 500\n",
    "\n",
    "\n",
    "#-----Execution Parameters\n",
    "iterations = 5\n",
    "train_percentage = 0.9"
   ]
  },
  {
   "cell_type": "code",
   "execution_count": 32,
   "metadata": {},
   "outputs": [
    {
     "name": "stdout",
     "output_type": "stream",
     "text": [
      "---------- ITERATION N° 1\n",
      "---------- ITERATION N° 2\n",
      "---------- ITERATION N° 3\n",
      "---------- ITERATION N° 4\n",
      "---------- ITERATION N° 5\n"
     ]
    }
   ],
   "source": [
    "from collections import defaultdict\n",
    "\n",
    "### Lists to keep track of the losses and scores during multiple iterations\n",
    "error_list = []\n",
    "score_list = []\n",
    "error_list_fedavg = []\n",
    "score_list_fedavg = []\n",
    "\n",
    "\n",
    "### ITERATIONS: at each iteration, a new dataset is generated\n",
    "for iteration in range(0, iterations):\n",
    "\n",
    "    print(\"---------- ITERATION N° {}\".format(iteration+1))\n",
    "    \n",
    "    ### Dataset Creation\n",
    "    dataset_X = np.linspace(0, 10, 2000)\n",
    "    np.random.shuffle(dataset_X)\n",
    "\n",
    "    dataset_y =  dataset_X * m + c +  np.random.randn(dataset_X.size) * math.sqrt(5)\n",
    "\n",
    "    dataset_X = dataset_X.reshape(-1,1)\n",
    "    dataset_y = dataset_y.reshape(-1,1)\n",
    "\n",
    "    train_X, test_X = np.split(dataset_X, \n",
    "                [int(train_percentage * len(dataset_X))\n",
    "                ])\n",
    "\n",
    "    train_y, test_y = np.split(dataset_y, \n",
    "                [int(train_percentage * len(dataset_y))\n",
    "                ])\n",
    "    \n",
    "    train_list_X = splitDataset(train_X, num_workers, num_rounds)\n",
    "    train_list_y = splitDataset(train_y, num_workers, num_rounds)\n",
    "    \n",
    "    \n",
    "    ### OUR ALGORITHM - INITIALIZATION\n",
    "    \n",
    "    worker_list = []\n",
    "    \n",
    "    for i in range(0, num_workers):\n",
    "        worker_list.append(Worker(coef = np.zeros(shape=dataset_X[0].size), intercept = np.zeros(shape=1), model=linear_model.LinearRegression()))\n",
    "        \n",
    "    server = Server(coef = np.zeros(shape=dataset_X[0].size), intercept = np.zeros(shape=1), workers = worker_list, num_features = dataset_X[0].size)\n",
    "    \n",
    "\n",
    "    # stores losses trend for each worker along epochs\n",
    "    worker_losses_dict = defaultdict(list)\n",
    "\n",
    "    error = []\n",
    "    score = []\n",
    "\n",
    "    ### OUR ALGORITHM - EXECUTION\n",
    "\n",
    "    for i in range(0, num_rounds):\n",
    "\n",
    "        for j in range(0, num_workers):\n",
    "\n",
    "            worker_list[j].train(X = train_list_X[i*num_workers+j] , y = train_list_y[i*num_workers+j])\n",
    "            pred_worker = worker_list[j].evaluate(test_X)\n",
    "\n",
    "            # store loss info for current epoch \n",
    "            worker_losses_dict[j].append(mean_squared_error(test_y, pred_worker))\n",
    "\n",
    "        server.aggregation() \n",
    "        server.return_to_workers()\n",
    "\n",
    "        pred_server = server.evaluate(test_X)\n",
    "        error.append(mean_squared_error(test_y, pred_server))\n",
    "        score.append(r2_score(test_y, pred_server))\n",
    "        \n",
    "    error_list.append(error)\n",
    "    score_list.append(score)\n",
    "    \n",
    "    \n",
    "    \n",
    "    ### Dataset modification\n",
    "    \n",
    "    from torch.autograd import Variable\n",
    "\n",
    "    for i in range(0, len(train_list_X)):\n",
    "        train_list_X[i] = torch.from_numpy(train_list_X[i])\n",
    "\n",
    "    for i in range(0, len(train_list_y)):\n",
    "        train_list_y[i] = torch.from_numpy(train_list_y[i])\n",
    "    \n",
    "    \n",
    "    ### FEDAVG - INITIALIZATION\n",
    "    \n",
    "    w = []\n",
    "    w.append(customModel(dataset_X[0].size, dataset_y[0].size))\n",
    "    for i in range(1, num_workers):\n",
    "        w.append(copy.deepcopy(w[0]))\n",
    "    \n",
    "    \n",
    "    criterion = []\n",
    "    optimizers = []\n",
    "    for i in w:\n",
    "        criterion.append(torch.nn.MSELoss()) \n",
    "        optimizers.append(torch.optim.lr_scheduler.StepLR(torch.optim.SGD(i.parameters(), lr=learning_rate),\n",
    "                                                          step_size = local_epochs,\n",
    "                                                          gamma=0.5))\n",
    "        \n",
    "    params = []\n",
    "    for i in w:\n",
    "        params.append(list(i.parameters()))\n",
    "        \n",
    "        \n",
    "    for model in w:\n",
    "        model.train()\n",
    "    \n",
    "    # stores losses trend for each worker along epochs\n",
    "    worker_losses_dict = defaultdict(list)\n",
    "    \n",
    "    \n",
    "    error_fedavg = []\n",
    "    score_fedavg = []\n",
    "\n",
    "    ### FEDAVG - EXECUTION\n",
    "    \n",
    "    for i in range(0, num_rounds):\n",
    "\n",
    "        for j in range(0, num_workers):\n",
    "\n",
    "            for epoch in range(local_epochs):\n",
    "\n",
    "                optimizers[j].optimizer.zero_grad()\n",
    "                loss = 0\n",
    "\n",
    "                for x in range(len(train_list_X[i*num_workers+j])):\n",
    "                    inputs = (train_list_X[i*num_workers+j][x]).float()\n",
    "                    inputs = inputs.unsqueeze(0)\n",
    "                    labels = (train_list_y[i*num_workers+j][x]).float()\n",
    "                    labels = labels.unsqueeze(0)\n",
    "                    y_pred = w[j](inputs)\n",
    "                    loss += criterion[j](y_pred, labels)\n",
    "\n",
    "                # store loss info for current epoch \n",
    "                worker_losses_dict[j].append(loss)\n",
    "\n",
    "                loss.backward()\n",
    "                optimizers[j].optimizer.step()\n",
    "                optimizers[j].step()\n",
    "                    \n",
    "        new_params = list()\n",
    "\n",
    "        for param_i in range(len(params[0])):\n",
    "\n",
    "            spdz_params = list()\n",
    "\n",
    "            for remote_index in range(len(w)):\n",
    "                spdz_params.append(params[remote_index][param_i])\n",
    "\n",
    "            spdz = torch.tensor([0.0]).float()\n",
    "\n",
    "            for k in spdz_params:\n",
    "                spdz = spdz + k\n",
    "\n",
    "            new_param = (spdz) / len(w)\n",
    "            new_params.append(new_param)\n",
    "\n",
    "        with torch.no_grad():\n",
    "            for remote_index in range(len(w)):\n",
    "                for param_index in range(len(params[remote_index])):\n",
    "                    params[remote_index][param_index] = new_params[param_index].data.clone() #torch.nn.Parameter(new_params[param_index])\n",
    "\n",
    "        predicted = w[0](Variable(torch.from_numpy(test_X).float())).data.numpy()\n",
    "\n",
    "        error_fedavg.append(mean_squared_error(test_y, predicted))\n",
    "        score_fedavg.append(r2_score(test_y, predicted))\n",
    "    \n",
    "    \n",
    "    error_list_fedavg.append(error_fedavg)\n",
    "    score_list_fedavg.append(score_fedavg)"
   ]
  },
  {
   "cell_type": "code",
   "execution_count": 33,
   "metadata": {},
   "outputs": [],
   "source": [
    "err = []\n",
    "for i in range(0, len(error_list[0])):\n",
    "    s = 0\n",
    "    for k in error_list:\n",
    "        s += k[i]\n",
    "    err.append(s / len(error_list))\n",
    "\n",
    "\n",
    "sc = []\n",
    "for i in range(0, len(score_list[0])):\n",
    "    s = 0\n",
    "    for k in score_list:\n",
    "        s += k[i]\n",
    "    sc.append(s / len(score_list))\n",
    "\n",
    "\n",
    "err_s = []\n",
    "for i in range(0, len(error_list_fedavg[0])):\n",
    "    s = 0\n",
    "    for k in error_list_fedavg:\n",
    "        s += k[i]\n",
    "    err_s.append(s / len(error_list_fedavg))\n",
    "\n",
    "\n",
    "sc_s = []\n",
    "for i in range(0, len(score_list_fedavg[0])):\n",
    "    s = 0\n",
    "    for k in score_list_fedavg:\n",
    "        s += k[i]\n",
    "    sc_s.append(s / len(score_list_fedavg))"
   ]
  },
  {
   "cell_type": "code",
   "execution_count": 34,
   "metadata": {},
   "outputs": [
    {
     "data": {
      "text/plain": [
       "<Figure size 720x360 with 0 Axes>"
      ]
     },
     "metadata": {},
     "output_type": "display_data"
    },
    {
     "data": {
      "image/png": "[encoded data removed]",
      "text/plain": [
       "<Figure size 432x288 with 1 Axes>"
      ]
     },
     "metadata": {
      "needs_background": "light"
     },
     "output_type": "display_data"
    }
   ],
   "source": [
    "from matplotlib.pyplot import figure\n",
    "from matplotlib.ticker import MaxNLocator\n",
    "\n",
    "figure(figsize=(10,5))\n",
    "\n",
    "x = np.arange(num_rounds)\n",
    "\n",
    "ax = plt.figure().gca()\n",
    "\n",
    "ax.xaxis.set_major_locator(MaxNLocator(integer=True))\n",
    "\n",
    "plt.plot(x, err, color='red', label='FedREGRESSION', linewidth=3)\n",
    "plt.plot(x, err_s, color='blue', label='FedAVG')\n",
    "plt.legend(loc='best')\n",
    "\n",
    "ax.set_xlabel(\"Rounds\")\n",
    "ax.set_ylabel(\"MSE\")\n",
    "\n",
    "plt.draw()"
   ]
  },
  {
   "cell_type": "code",
   "execution_count": 35,
   "metadata": {},
   "outputs": [
    {
     "data": {
      "image/png": "[encoded data removed]",
      "text/plain": [
       "<Figure size 720x360 with 1 Axes>"
      ]
     },
     "metadata": {
      "needs_background": "light"
     },
     "output_type": "display_data"
    }
   ],
   "source": [
    "figure(figsize=(10,5))\n",
    "\n",
    "x = np.arange(num_rounds)\n",
    "\n",
    "plt.plot(x, sc, color='red',label='FedREGRESSION', linewidth=3)\n",
    "plt.plot(x, sc_s, color='blue', label='FedAVG')\n",
    "\n",
    "ax = plt.gca()\n",
    "ax.get_yaxis().get_major_formatter().set_scientific(False)\n",
    "\n",
    "ax.xaxis.set_major_locator(MaxNLocator(integer=True))\n",
    "\n",
    "ax.set_xlabel(\"Rounds\")\n",
    "ax.set_ylabel(\"R2 Score\")\n",
    "plt.legend(loc='best')\n",
    "\n",
    "plt.draw()"
   ]
  }
 ],
 "metadata": {
  "kernelspec": {
   "display_name": "Python (tensorflow_cpu)",
   "language": "python",
   "name": "tensorflow_cpu"
  },
  "language_info": {
   "codemirror_mode": {
    "name": "ipython",
    "version": 3
   },
   "file_extension": ".py",
   "mimetype": "text/x-python",
   "name": "python",
   "nbconvert_exporter": "python",
   "pygments_lexer": "ipython3",
   "version": "3.6.9"
  }
 },
 "nbformat": 4,
 "nbformat_minor": 2
}
