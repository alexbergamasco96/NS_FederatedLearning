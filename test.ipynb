{
 "cells": [
  {
   "cell_type": "code",
   "execution_count": 8,
   "metadata": {},
   "outputs": [],
   "source": [
    "import os\n",
    "import numpy as np\n",
    "\n",
    "from Stationary.core import *\n",
    "\n",
    "from sklearn import linear_model, datasets\n",
    "from sklearn.metrics import mean_squared_error, r2_score\n",
    "\n",
    "import matplotlib.pyplot as plt\n"
   ]
  },
  {
   "cell_type": "code",
   "execution_count": 9,
   "metadata": {},
   "outputs": [],
   "source": [
    "w1 = Worker(coef = np.array([0, 0]), intercept = np.array([0]), model=linear_model.LinearRegression())\n",
    "w2 = Worker(coef = np.array([0, 0]), intercept = np.array([0]), model=linear_model.LinearRegression())\n",
    "w3 = Worker(coef = np.array([0, 0]), intercept = np.array([0]), model=linear_model.LinearRegression())"
   ]
  },
  {
   "cell_type": "code",
   "execution_count": 10,
   "metadata": {},
   "outputs": [],
   "source": [
    "l = []\n",
    "l.append(w1)\n",
    "l.append(w2)\n",
    "l.append(w3)"
   ]
  },
  {
   "cell_type": "code",
   "execution_count": 11,
   "metadata": {},
   "outputs": [],
   "source": [
    "dataset_X, dataset_y = datasets.load_diabetes(return_X_y=True, )"
   ]
  },
  {
   "cell_type": "code",
   "execution_count": 12,
   "metadata": {},
   "outputs": [],
   "source": [
    "server = Server(coef = np.array([0, 0]), intercept = np.array([0]), workers = l, num_features = dataset_X[0].size)"
   ]
  },
  {
   "cell_type": "code",
   "execution_count": 13,
   "metadata": {},
   "outputs": [],
   "source": [
    "train_w1_X, train_w2_X, train_w3_X, test_X = np.split(dataset_X, \n",
    "                                                      [int(.25 * len(dataset_X)), \n",
    "                                                       int(.50 * len(dataset_X)), \n",
    "                                                       int(.75 * len(dataset_X))\n",
    "                                                      ])"
   ]
  },
  {
   "cell_type": "code",
   "execution_count": 14,
   "metadata": {},
   "outputs": [],
   "source": [
    "train_w1_y, train_w2_y, train_w3_y, test_y = np.split(dataset_y, \n",
    "                                                      [int(.25 * len(dataset_y)), \n",
    "                                                       int(.50 * len(dataset_y)), \n",
    "                                                       int(.75 * len(dataset_y))\n",
    "                                                      ])"
   ]
  },
  {
   "cell_type": "code",
   "execution_count": 15,
   "metadata": {},
   "outputs": [],
   "source": [
    "train_w1_1, train_w1_2, train_w1_3 = np.split(train_w1_X,  \n",
    "                                                [int(.33 * len(train_w1_X)), \n",
    "                                                int(.66 * len(train_w1_X))\n",
    "                                                ])\n",
    "\n",
    "train_w2_1, train_w2_2, train_w2_3 = np.split(train_w2_X,  \n",
    "                                                [int(.33 * len(train_w2_X)), \n",
    "                                                int(.66 * len(train_w2_X))\n",
    "                                                ])\n",
    "\n",
    "train_w3_1, train_w3_2, train_w3_3 = np.split(train_w3_X,  \n",
    "                                                [int(.33 * len(train_w3_X)), \n",
    "                                                int(.66 * len(train_w3_X))\n",
    "                                                ])\n",
    "\n",
    "\n",
    "\n",
    "\n",
    "train_w1_y_1, train_w1_y_2, train_w1_y_3 = np.split(train_w1_y, \n",
    "                                                      [int(.33 * len(train_w1_y)), \n",
    "                                                       int(.66 * len(train_w1_y))\n",
    "                                                      ])\n",
    "\n",
    "train_w2_y_1, train_w2_y_2, train_w2_y_3 = np.split(train_w2_y, \n",
    "                                                      [int(.33 * len(train_w2_y)), \n",
    "                                                       int(.66 * len(train_w2_y))\n",
    "                                                      ])\n",
    "\n",
    "train_w3_y_1, train_w3_y_2, train_w3_y_3 = np.split(train_w3_y, \n",
    "                                                      [int(.33 * len(train_w3_y)), \n",
    "                                                       int(.66 * len(train_w3_y))\n",
    "                                                      ])"
   ]
  },
  {
   "cell_type": "code",
   "execution_count": 8,
   "metadata": {},
   "outputs": [],
   "source": [
    "w1.train(X = train_w1_X, y = train_w1_y)\n",
    "w2.train(X = train_w2_X, y = train_w2_y)\n",
    "w3.train(X = train_w3_X, y = train_w3_y)\n"
   ]
  },
  {
   "cell_type": "code",
   "execution_count": 9,
   "metadata": {},
   "outputs": [
    {
     "data": {
      "text/plain": [
       "array([  57.18276806,  -75.1429839 ,  537.2001464 ,  370.81987107,\n",
       "         43.25106484,   37.51865177, -331.11325767, -154.85685861,\n",
       "        542.60138261,  -31.62912061])"
      ]
     },
     "execution_count": 9,
     "metadata": {},
     "output_type": "execute_result"
    }
   ],
   "source": [
    "w3.model.coef_"
   ]
  },
  {
   "cell_type": "code",
   "execution_count": 10,
   "metadata": {},
   "outputs": [],
   "source": [
    "server.aggregation()"
   ]
  },
  {
   "cell_type": "code",
   "execution_count": 11,
   "metadata": {},
   "outputs": [
    {
     "name": "stdout",
     "output_type": "stream",
     "text": [
      "Server Coef:  [  -4.08894884 -202.30961161  511.95852512  280.21844215 -322.12129046\n",
      "   70.23540153  -41.16479233  135.70885414  625.80283674   74.97544225]\n",
      "Server intercept:  [150.45345618]\n"
     ]
    }
   ],
   "source": [
    "print('Server Coef: ', server.coef)\n",
    "print('Server intercept: ', server.intercept)"
   ]
  },
  {
   "cell_type": "code",
   "execution_count": 12,
   "metadata": {},
   "outputs": [],
   "source": [
    "server.return_to_workers()"
   ]
  },
  {
   "cell_type": "code",
   "execution_count": 13,
   "metadata": {},
   "outputs": [
    {
     "data": {
      "text/plain": [
       "array([  -4.08894884, -202.30961161,  511.95852512,  280.21844215,\n",
       "       -322.12129046,   70.23540153,  -41.16479233,  135.70885414,\n",
       "        625.80283674,   74.97544225])"
      ]
     },
     "execution_count": 13,
     "metadata": {},
     "output_type": "execute_result"
    }
   ],
   "source": [
    "w3.coef"
   ]
  },
  {
   "cell_type": "code",
   "execution_count": 14,
   "metadata": {},
   "outputs": [
    {
     "name": "stdout",
     "output_type": "stream",
     "text": [
      "Mean squared error worker 1: 3226.93\n",
      "Coefficient of determinaton of worker 1: 0.47\n",
      "----------\n",
      "Mean squared error worker 2: 2978.78\n",
      "Coefficient of determinaton of worker 2: 0.51\n",
      "----------\n",
      "Mean squared error worker 3: 2893.24\n",
      "Coefficient of determinaton of worker 3: 0.53\n"
     ]
    }
   ],
   "source": [
    "pred_w1 = w1.evaluate(test_X)\n",
    "print('Mean squared error worker 1: %.2f' \n",
    "         % mean_squared_error(test_y, pred_w1))\n",
    "print('Coefficient of determinaton of worker 1: %.2f'\n",
    "         % r2_score(test_y, pred_w1))\n",
    "\n",
    "print('----------')\n",
    "\n",
    "pred_w2 = w2.evaluate(test_X)\n",
    "print('Mean squared error worker 2: %.2f' \n",
    "         % mean_squared_error(test_y, pred_w2))\n",
    "print('Coefficient of determinaton of worker 2: %.2f'\n",
    "         % r2_score(test_y, pred_w2))\n",
    "\n",
    "print('----------')\n",
    "\n",
    "pred_w3 = w3.evaluate(test_X)\n",
    "print('Mean squared error worker 3: %.2f' \n",
    "         % mean_squared_error(test_y, pred_w3))\n",
    "print('Coefficient of determinaton of worker 3: %.2f'\n",
    "         % r2_score(test_y, pred_w3))"
   ]
  },
  {
   "cell_type": "code",
   "execution_count": 15,
   "metadata": {},
   "outputs": [],
   "source": [
    "server.return_to_workers()"
   ]
  },
  {
   "cell_type": "code",
   "execution_count": 16,
   "metadata": {},
   "outputs": [
    {
     "name": "stdout",
     "output_type": "stream",
     "text": [
      "Mean squared error worker 1: 2811.18\n",
      "Coefficient of determinaton of worker 1: 0.54\n"
     ]
    }
   ],
   "source": [
    "pred_server = server.evaluate(test_X)\n",
    "print('Mean squared error worker 1: %.2f' \n",
    "         % mean_squared_error(test_y, pred_server))\n",
    "print('Coefficient of determinaton of worker 1: %.2f'\n",
    "         % r2_score(test_y, pred_server))"
   ]
  },
  {
   "cell_type": "code",
   "execution_count": 18,
   "metadata": {
    "scrolled": true
   },
   "outputs": [
    {
     "name": "stdout",
     "output_type": "stream",
     "text": [
      "Mean squared error worker 1: 2811.18\n",
      "Coefficient of determinaton of worker 1: 0.54\n"
     ]
    }
   ],
   "source": [
    "pred_server = server.evaluate(test_X)\n",
    "print('Mean squared error worker 1: %.2f' \n",
    "         % mean_squared_error(test_y, pred_server))\n",
    "print('Coefficient of determinaton of worker 1: %.2f'\n",
    "         % r2_score(test_y, pred_server))"
   ]
  },
  {
   "cell_type": "markdown",
   "metadata": {},
   "source": [
    "# Multi Rounds"
   ]
  },
  {
   "cell_type": "code",
   "execution_count": null,
   "metadata": {},
   "outputs": [],
   "source": [
    "w1.train(X = train_w1_1, y = train_w1_y_1)\n",
    "w2.train(X = train_w2_1, y = train_w2_y_1)\n",
    "w3.train(X = train_w3_1, y = train_w3_y_1)\n",
    "\n",
    "server.aggregation()\n",
    "server.return_to_workers()\n"
   ]
  }
 ],
 "metadata": {
  "kernelspec": {
   "display_name": "Python (tensorflow_cpu)",
   "language": "python",
   "name": "tensorflow_cpu"
  },
  "language_info": {
   "codemirror_mode": {
    "name": "ipython",
    "version": 3
   },
   "file_extension": ".py",
   "mimetype": "text/x-python",
   "name": "python",
   "nbconvert_exporter": "python",
   "pygments_lexer": "ipython3",
   "version": "3.6.9"
  }
 },
 "nbformat": 4,
 "nbformat_minor": 2
}
