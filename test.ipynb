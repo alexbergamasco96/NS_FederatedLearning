{
 "cells": [
  {
   "cell_type": "markdown",
   "metadata": {},
   "source": [
    "# Test Notebook\n",
    "\n",
    "\n",
    "## **Multi-Round Execution** \n",
    "Automatic computation of the algorithm.\n",
    "\n",
    "### First Section:\n",
    "Single Execution of the algorithm\n",
    "### Second Section:\n",
    "Average of results during multiple executions (score and losses are averaged)."
   ]
  },
  {
   "cell_type": "code",
   "execution_count": 45,
   "metadata": {},
   "outputs": [],
   "source": [
    "import os\n",
    "import numpy as np\n",
    "import math\n",
    "\n",
    "from Stationary.core import *\n",
    "from Stationary.utils import *\n",
    "\n",
    "from sklearn import linear_model, datasets\n",
    "from sklearn.metrics import mean_squared_error, r2_score\n",
    "\n",
    "import matplotlib.pyplot as plt\n"
   ]
  },
  {
   "cell_type": "markdown",
   "metadata": {},
   "source": [
    "# First Section"
   ]
  },
  {
   "cell_type": "code",
   "execution_count": 22,
   "metadata": {
    "scrolled": true
   },
   "outputs": [],
   "source": [
    "num_workers = 4\n",
    "num_rounds = 10\n",
    "\n",
    "m = -2.9\n",
    "c = 1.1\n",
    "\n",
    "\n",
    "\n",
    "iterations = 10\n",
    "\n",
    "error_list = []\n",
    "score_list = []\n",
    "error_list_single = []\n",
    "score_list_single = []\n",
    "\n",
    "for iteration in range(0, iterations):\n",
    "\n",
    "    \n",
    "    # Linear Regression Coefficients\n",
    "    m = 1.4\n",
    "    c = 10\n",
    "\n",
    "    dataset_X = np.linspace(0, 10, 500)\n",
    "    np.random.shuffle(dataset_X)\n",
    "\n",
    "    dataset_y =  dataset_X * m + c +  np.random.randn(dataset_X.size) * math.sqrt(20)\n",
    "\n",
    "    dataset_X = dataset_X.reshape(-1,1)\n",
    "    dataset_y = dataset_y.reshape(-1,1)\n",
    "    \n",
    "    train_percentage = 0.9\n",
    "\n",
    "\n",
    "    train_X, test_X = np.split(dataset_X, \n",
    "                [int(train_percentage * len(dataset_X))\n",
    "                ])\n",
    "\n",
    "    train_y, test_y = np.split(dataset_y, \n",
    "                [int(train_percentage * len(dataset_y))\n",
    "                ])\n",
    "    \n",
    "    train_list_X = splitDataset(train_X, num_workers, num_rounds)\n",
    "    train_list_y = splitDataset(train_y, num_workers, num_rounds)\n",
    "    \n",
    "    worker_list = []\n",
    "    \n",
    "    \n",
    "    for i in range(0, num_workers):\n",
    "        worker_list.append(Worker(coef = np.zeros(shape=dataset_X[0].size), intercept = np.zeros(shape=1), model=linear_model.LinearRegression()))\n",
    "        \n",
    "        \n",
    "    server = Server(coef = np.zeros(shape=dataset_X[0].size), intercept = np.zeros(shape=1), workers = worker_list, num_features = dataset_X[0].size)\n",
    "    \n",
    "    \n",
    "    from collections import defaultdict\n",
    "\n",
    "    # stores losses trend for each worker along epochs\n",
    "    worker_losses_dict = defaultdict(list)\n",
    "\n",
    "\n",
    "    error = []\n",
    "    score = []\n",
    "\n",
    "\n",
    "\n",
    "    for i in range(0, num_rounds):\n",
    "\n",
    "        for j in range(0, num_workers):\n",
    "\n",
    "            worker_list[j].train(X = train_list_X[i*num_workers+j] , y = train_list_y[i*num_workers+j])\n",
    "            pred_worker = worker_list[j].evaluate(test_X)\n",
    "\n",
    "            # store loss info for current epoch \n",
    "            worker_losses_dict[j].append(mean_squared_error(test_y, pred_worker))\n",
    "\n",
    "        server.aggregation() \n",
    "        server.return_to_workers()\n",
    "\n",
    "        pred_server = server.evaluate(test_X)\n",
    "        error.append(mean_squared_error(test_y, pred_server))\n",
    "        score.append(r2_score(test_y, pred_server))\n",
    "        \n",
    "    error_list.append(error)\n",
    "    score_list.append(score)\n",
    "    \n",
    "    worker_list = []\n",
    "    worker_list.append(Worker(coef = np.zeros(shape=dataset_X[0].size), intercept = np.zeros(shape=1), model=linear_model.LinearRegression()))\n",
    "\n",
    "    server = Server(coef = np.zeros(shape=dataset_X[0].size), intercept = np.zeros(shape=1), workers = worker_list, num_features = dataset_X[0].size)\n",
    "\n",
    "\n",
    "    error_single = []\n",
    "    score_single = []\n",
    "\n",
    "    for i in range(0, num_rounds):\n",
    "\n",
    "        worker_list[0].train(X = train_list_X[i*num_workers] , y = train_list_y[i*num_workers])\n",
    "\n",
    "        server.aggregation() \n",
    "        server.return_to_workers()\n",
    "\n",
    "        pred_server = server.evaluate(test_X)\n",
    "        error_single.append(mean_squared_error(test_y, pred_server))\n",
    "        score_single.append(r2_score(test_y, pred_server))\n",
    "    \n",
    "    \n",
    "    error_list_single.append(error_single)\n",
    "    score_list_single.append(score_single)"
   ]
  },
  {
   "cell_type": "code",
   "execution_count": 42,
   "metadata": {},
   "outputs": [],
   "source": [
    "err = []\n",
    "for i in range(0, len(error_list[0])):\n",
    "    s = 0\n",
    "    for k in error_list:\n",
    "        s += k[i]\n",
    "    err.append(s / len(error_list))\n",
    "\n",
    "\n",
    "sc = []\n",
    "for i in range(0, len(score_list[0])):\n",
    "    s = 0\n",
    "    for k in score_list:\n",
    "        s += k[i]\n",
    "    sc.append(s / len(score_list))\n",
    "\n",
    "\n",
    "err_s = []\n",
    "for i in range(0, len(error_list_single[0])):\n",
    "    s = 0\n",
    "    for k in error_list_single:\n",
    "        s += k[i]\n",
    "    err_s.append(s / len(error_list_single))\n",
    "\n",
    "\n",
    "sc_s = []\n",
    "for i in range(0, len(score_list_single[0])):\n",
    "    s = 0\n",
    "    for k in score_list_single:\n",
    "        s += k[i]\n",
    "    sc_s.append(s / len(score_list_single))"
   ]
  },
  {
   "cell_type": "code",
   "execution_count": 43,
   "metadata": {},
   "outputs": [
    {
     "data": {
      "text/plain": [
       "[<matplotlib.lines.Line2D at 0x7f6608a57470>]"
      ]
     },
     "execution_count": 43,
     "metadata": {},
     "output_type": "execute_result"
    },
    {
     "data": {
      "text/plain": [
       "<Figure size 720x360 with 0 Axes>"
      ]
     },
     "metadata": {},
     "output_type": "display_data"
    },
    {
     "data": {
      "image/png": "[encoded data removed]",
      "text/plain": [
       "<Figure size 432x288 with 1 Axes>"
      ]
     },
     "metadata": {
      "needs_background": "light"
     },
     "output_type": "display_data"
    }
   ],
   "source": [
    "from matplotlib.pyplot import figure\n",
    "from matplotlib.ticker import MaxNLocator\n",
    "\n",
    "figure(figsize=(10,5))\n",
    "\n",
    "x = np.arange(num_rounds)\n",
    "\n",
    "ax = plt.figure().gca()\n",
    "\n",
    "ax.xaxis.set_major_locator(MaxNLocator(integer=True))\n",
    "\n",
    "plt.plot(x, err, color='red', linewidth=3)\n",
    "plt.plot(x, err_s, color='blue')"
   ]
  },
  {
   "cell_type": "code",
   "execution_count": 44,
   "metadata": {},
   "outputs": [
    {
     "data": {
      "image/png": "[encoded data removed]",
      "text/plain": [
       "<Figure size 720x360 with 1 Axes>"
      ]
     },
     "metadata": {
      "needs_background": "light"
     },
     "output_type": "display_data"
    }
   ],
   "source": [
    "figure(figsize=(10,5))\n",
    "\n",
    "x = np.arange(num_rounds)\n",
    "\n",
    "plt.plot(x, sc, color='green', linewidth=3)\n",
    "plt.plot(x, sc_s, color='blue')\n",
    "\n",
    "ax = plt.gca()\n",
    "ax.get_yaxis().get_major_formatter().set_scientific(False)\n",
    "\n",
    "ax.xaxis.set_major_locator(MaxNLocator(integer=True))\n",
    "\n",
    "#ax.set_ylim([0.5,1])\n",
    "\n",
    "plt.draw()"
   ]
  },
  {
   "cell_type": "markdown",
   "metadata": {},
   "source": [
    "## Da qui cose giuste"
   ]
  },
  {
   "cell_type": "code",
   "execution_count": 20,
   "metadata": {},
   "outputs": [],
   "source": [
    "num_workers = 4\n",
    "num_rounds = 20\n",
    "\n",
    "m = -2.9\n",
    "c = 1.1"
   ]
  },
  {
   "cell_type": "code",
   "execution_count": 21,
   "metadata": {},
   "outputs": [],
   "source": [
    "dataset_X = np.linspace(0, 10, 1000)\n",
    "np.random.shuffle(dataset_X)\n",
    "\n",
    "dataset_y =  dataset_X * m + c +  np.random.randn(dataset_X.size) * math.sqrt(30)\n",
    "\n",
    "dataset_X = dataset_X.reshape(-1,1)"
   ]
  },
  {
   "cell_type": "code",
   "execution_count": 22,
   "metadata": {},
   "outputs": [],
   "source": [
    "worker_list = []\n",
    "for i in range(0, num_workers):\n",
    "    worker_list.append(Worker(coef = np.zeros(shape=dataset_X[0].size), intercept = np.zeros(shape=1), model=linear_model.LinearRegression()))"
   ]
  },
  {
   "cell_type": "code",
   "execution_count": 23,
   "metadata": {},
   "outputs": [],
   "source": [
    "train_percentage = 0.9\n",
    "\n",
    "\n",
    "train_X, test_X = np.split(dataset_X, \n",
    "            [int(train_percentage * len(dataset_X))\n",
    "            ])\n",
    "\n",
    "train_y, test_y = np.split(dataset_y, \n",
    "            [int(train_percentage * len(dataset_y))\n",
    "            ])"
   ]
  },
  {
   "cell_type": "code",
   "execution_count": 24,
   "metadata": {},
   "outputs": [],
   "source": [
    "server = Server(coef = np.zeros(shape=dataset_X[0].size), intercept = np.zeros(shape=1), workers = worker_list, num_features = dataset_X[0].size)"
   ]
  },
  {
   "cell_type": "code",
   "execution_count": 25,
   "metadata": {},
   "outputs": [],
   "source": [
    "train_list_X = splitDataset(train_X, num_workers, num_rounds)\n",
    "train_list_y = splitDataset(train_y, num_workers, num_rounds)"
   ]
  },
  {
   "cell_type": "code",
   "execution_count": 26,
   "metadata": {
    "scrolled": true
   },
   "outputs": [
    {
     "name": "stdout",
     "output_type": "stream",
     "text": [
      "------ROUND 1------\n",
      "Mean squared error: 35.009\n",
      "Coefficient of determinaton: 0.644 \n",
      "\n",
      "------ROUND 2------\n",
      "Mean squared error: 34.392\n",
      "Coefficient of determinaton: 0.650 \n",
      "\n",
      "------ROUND 3------\n",
      "Mean squared error: 34.901\n",
      "Coefficient of determinaton: 0.645 \n",
      "\n",
      "------ROUND 4------\n",
      "Mean squared error: 35.064\n",
      "Coefficient of determinaton: 0.643 \n",
      "\n",
      "------ROUND 5------\n",
      "Mean squared error: 34.852\n",
      "Coefficient of determinaton: 0.646 \n",
      "\n",
      "------ROUND 6------\n",
      "Mean squared error: 34.574\n",
      "Coefficient of determinaton: 0.648 \n",
      "\n",
      "------ROUND 7------\n",
      "Mean squared error: 34.576\n",
      "Coefficient of determinaton: 0.648 \n",
      "\n",
      "------ROUND 8------\n",
      "Mean squared error: 34.437\n",
      "Coefficient of determinaton: 0.650 \n",
      "\n",
      "------ROUND 9------\n",
      "Mean squared error: 34.281\n",
      "Coefficient of determinaton: 0.651 \n",
      "\n",
      "------ROUND 10------\n",
      "Mean squared error: 34.239\n",
      "Coefficient of determinaton: 0.652 \n",
      "\n",
      "------ROUND 11------\n",
      "Mean squared error: 34.126\n",
      "Coefficient of determinaton: 0.653 \n",
      "\n",
      "------ROUND 12------\n",
      "Mean squared error: 34.043\n",
      "Coefficient of determinaton: 0.654 \n",
      "\n",
      "------ROUND 13------\n",
      "Mean squared error: 34.139\n",
      "Coefficient of determinaton: 0.653 \n",
      "\n",
      "------ROUND 14------\n",
      "Mean squared error: 34.138\n",
      "Coefficient of determinaton: 0.653 \n",
      "\n",
      "------ROUND 15------\n",
      "Mean squared error: 34.137\n",
      "Coefficient of determinaton: 0.653 \n",
      "\n",
      "------ROUND 16------\n",
      "Mean squared error: 34.105\n",
      "Coefficient of determinaton: 0.653 \n",
      "\n",
      "------ROUND 17------\n",
      "Mean squared error: 34.091\n",
      "Coefficient of determinaton: 0.653 \n",
      "\n",
      "------ROUND 18------\n",
      "Mean squared error: 34.099\n",
      "Coefficient of determinaton: 0.653 \n",
      "\n",
      "------ROUND 19------\n",
      "Mean squared error: 34.130\n",
      "Coefficient of determinaton: 0.653 \n",
      "\n",
      "------ROUND 20------\n",
      "Mean squared error: 34.136\n",
      "Coefficient of determinaton: 0.653 \n",
      "\n"
     ]
    }
   ],
   "source": [
    "error = []\n",
    "score = []\n",
    "\n",
    "for i in range(0, num_rounds):\n",
    "    \n",
    "    for j in range(0, num_workers):\n",
    "        worker_list[j].train(X = train_list_X[i*num_workers+j] , y = train_list_y[i*num_workers+j])\n",
    "\n",
    "    server.aggregation() \n",
    "    server.return_to_workers()\n",
    "    \n",
    "    pred_server = server.evaluate(test_X)\n",
    "    print('------ROUND {}------'.format(i+1))\n",
    "    print('Mean squared error: %.3f' \n",
    "          % mean_squared_error(test_y, pred_server))\n",
    "    print('Coefficient of determinaton: %.3f \\n'\n",
    "          % r2_score(test_y, pred_server))\n",
    "    error.append(mean_squared_error(test_y, pred_server))\n",
    "    score.append(r2_score(test_y, pred_server))\n",
    "    "
   ]
  },
  {
   "cell_type": "code",
   "execution_count": 27,
   "metadata": {},
   "outputs": [
    {
     "data": {
      "image/png": "[encoded data removed]",
      "text/plain": [
       "<Figure size 432x288 with 1 Axes>"
      ]
     },
     "metadata": {
      "needs_background": "light"
     },
     "output_type": "display_data"
    }
   ],
   "source": [
    "plt.clf()\n",
    "plt.plot(test_X, test_y, 'go', label='True data', alpha=0.5)\n",
    "plt.plot(test_X, pred_server, '--', label='Predictions', alpha=0.8)\n",
    "plt.legend(loc='best')\n",
    "plt.show()"
   ]
  },
  {
   "cell_type": "code",
   "execution_count": 28,
   "metadata": {},
   "outputs": [
    {
     "data": {
      "text/plain": [
       "[<matplotlib.lines.Line2D at 0x7f7601dde898>]"
      ]
     },
     "execution_count": 28,
     "metadata": {},
     "output_type": "execute_result"
    },
    {
     "data": {
      "text/plain": [
       "<Figure size 720x360 with 0 Axes>"
      ]
     },
     "metadata": {},
     "output_type": "display_data"
    },
    {
     "data": {
      "image/png": "[encoded data removed]",
      "text/plain": [
       "<Figure size 432x288 with 1 Axes>"
      ]
     },
     "metadata": {
      "needs_background": "light"
     },
     "output_type": "display_data"
    }
   ],
   "source": [
    "from matplotlib.pyplot import figure\n",
    "from matplotlib.ticker import MaxNLocator\n",
    "\n",
    "figure(figsize=(10,5))\n",
    "\n",
    "x = np.arange(num_rounds)\n",
    "\n",
    "ax = plt.figure().gca()\n",
    "\n",
    "ax.xaxis.set_major_locator(MaxNLocator(integer=True))\n",
    "\n",
    "plt.plot(x, error, color='red', linewidth=3)"
   ]
  },
  {
   "cell_type": "code",
   "execution_count": 29,
   "metadata": {
    "scrolled": false
   },
   "outputs": [
    {
     "data": {
      "image/png": "[encoded data removed]",
      "text/plain": [
       "<Figure size 720x360 with 1 Axes>"
      ]
     },
     "metadata": {
      "needs_background": "light"
     },
     "output_type": "display_data"
    }
   ],
   "source": [
    "figure(figsize=(10,5))\n",
    "\n",
    "x = np.arange(num_rounds)\n",
    "\n",
    "plt.plot(x, score, color='green', linewidth=3)\n",
    "\n",
    "ax = plt.gca()\n",
    "ax.get_yaxis().get_major_formatter().set_scientific(False)\n",
    "\n",
    "ax.xaxis.set_major_locator(MaxNLocator(integer=True))\n",
    "\n",
    "plt.draw()"
   ]
  },
  {
   "cell_type": "markdown",
   "metadata": {},
   "source": [
    "## Evaluating only the single worker"
   ]
  },
  {
   "cell_type": "code",
   "execution_count": 30,
   "metadata": {
    "scrolled": true
   },
   "outputs": [
    {
     "name": "stdout",
     "output_type": "stream",
     "text": [
      "------ROUND 1------\n",
      "Mean squared error: 35.379\n",
      "Coefficient of determinaton: 0.640 \n",
      "\n",
      "------ROUND 2------\n",
      "Mean squared error: 35.098\n",
      "Coefficient of determinaton: 0.643 \n",
      "\n",
      "------ROUND 3------\n",
      "Mean squared error: 34.311\n",
      "Coefficient of determinaton: 0.651 \n",
      "\n",
      "------ROUND 4------\n",
      "Mean squared error: 35.930\n",
      "Coefficient of determinaton: 0.635 \n",
      "\n",
      "------ROUND 5------\n",
      "Mean squared error: 35.449\n",
      "Coefficient of determinaton: 0.639 \n",
      "\n",
      "------ROUND 6------\n",
      "Mean squared error: 35.484\n",
      "Coefficient of determinaton: 0.639 \n",
      "\n",
      "------ROUND 7------\n",
      "Mean squared error: 34.853\n",
      "Coefficient of determinaton: 0.646 \n",
      "\n",
      "------ROUND 8------\n",
      "Mean squared error: 34.805\n",
      "Coefficient of determinaton: 0.646 \n",
      "\n",
      "------ROUND 9------\n",
      "Mean squared error: 34.425\n",
      "Coefficient of determinaton: 0.650 \n",
      "\n",
      "------ROUND 10------\n",
      "Mean squared error: 34.208\n",
      "Coefficient of determinaton: 0.652 \n",
      "\n",
      "------ROUND 11------\n",
      "Mean squared error: 34.128\n",
      "Coefficient of determinaton: 0.653 \n",
      "\n",
      "------ROUND 12------\n",
      "Mean squared error: 34.074\n",
      "Coefficient of determinaton: 0.653 \n",
      "\n",
      "------ROUND 13------\n",
      "Mean squared error: 34.155\n",
      "Coefficient of determinaton: 0.653 \n",
      "\n",
      "------ROUND 14------\n",
      "Mean squared error: 34.092\n",
      "Coefficient of determinaton: 0.653 \n",
      "\n",
      "------ROUND 15------\n",
      "Mean squared error: 34.146\n",
      "Coefficient of determinaton: 0.653 \n",
      "\n",
      "------ROUND 16------\n",
      "Mean squared error: 34.184\n",
      "Coefficient of determinaton: 0.652 \n",
      "\n",
      "------ROUND 17------\n",
      "Mean squared error: 34.104\n",
      "Coefficient of determinaton: 0.653 \n",
      "\n",
      "------ROUND 18------\n",
      "Mean squared error: 34.046\n",
      "Coefficient of determinaton: 0.654 \n",
      "\n",
      "------ROUND 19------\n",
      "Mean squared error: 34.094\n",
      "Coefficient of determinaton: 0.653 \n",
      "\n",
      "------ROUND 20------\n",
      "Mean squared error: 34.088\n",
      "Coefficient of determinaton: 0.653 \n",
      "\n"
     ]
    }
   ],
   "source": [
    "worker_list = []\n",
    "worker_list.append(Worker(coef = np.zeros(shape=dataset_X[0].size), intercept = np.zeros(shape=1), model=linear_model.LinearRegression()))\n",
    "\n",
    "server = Server(coef = np.zeros(shape=dataset_X[0].size), intercept = np.zeros(shape=1), workers = worker_list, num_features = dataset_X[0].size)\n",
    "\n",
    "\n",
    "error_single = []\n",
    "score_single = []\n",
    "\n",
    "for i in range(0, num_rounds):\n",
    "    \n",
    "    worker_list[0].train(X = train_list_X[i*num_workers] , y = train_list_y[i*num_workers])\n",
    "\n",
    "    server.aggregation() \n",
    "    server.return_to_workers()\n",
    "    \n",
    "    pred_server = server.evaluate(test_X)\n",
    "    print('------ROUND {}------'.format(i+1))\n",
    "    print('Mean squared error: %.3f' \n",
    "          % mean_squared_error(test_y, pred_server))\n",
    "    print('Coefficient of determinaton: %.3f \\n'\n",
    "          % r2_score(test_y, pred_server))\n",
    "    error_single.append(mean_squared_error(test_y, pred_server))\n",
    "    score_single.append(r2_score(test_y, pred_server))"
   ]
  },
  {
   "cell_type": "code",
   "execution_count": 31,
   "metadata": {},
   "outputs": [
    {
     "data": {
      "text/plain": [
       "[<matplotlib.lines.Line2D at 0x7f7601f104e0>]"
      ]
     },
     "execution_count": 31,
     "metadata": {},
     "output_type": "execute_result"
    },
    {
     "data": {
      "text/plain": [
       "<Figure size 720x360 with 0 Axes>"
      ]
     },
     "metadata": {},
     "output_type": "display_data"
    },
    {
     "data": {
      "image/png": "[encoded data removed]",
      "text/plain": [
       "<Figure size 432x288 with 1 Axes>"
      ]
     },
     "metadata": {
      "needs_background": "light"
     },
     "output_type": "display_data"
    }
   ],
   "source": [
    "from matplotlib.pyplot import figure\n",
    "from matplotlib.ticker import MaxNLocator\n",
    "\n",
    "figure(figsize=(10,5))\n",
    "\n",
    "x = np.arange(num_rounds)\n",
    "\n",
    "ax = plt.figure().gca()\n",
    "\n",
    "ax.xaxis.set_major_locator(MaxNLocator(integer=True))\n",
    "\n",
    "plt.plot(x, error, color='red', linewidth=3)\n",
    "plt.plot(x, error_single, color='blue')"
   ]
  },
  {
   "cell_type": "code",
   "execution_count": 32,
   "metadata": {},
   "outputs": [
    {
     "data": {
      "image/png": "[encoded data removed]",
      "text/plain": [
       "<Figure size 720x360 with 1 Axes>"
      ]
     },
     "metadata": {
      "needs_background": "light"
     },
     "output_type": "display_data"
    }
   ],
   "source": [
    "figure(figsize=(10,5))\n",
    "\n",
    "x = np.arange(num_rounds)\n",
    "\n",
    "plt.plot(x, score, color='green', linewidth=3)\n",
    "plt.plot(x, score_single, color='blue')\n",
    "\n",
    "ax = plt.gca()\n",
    "ax.get_yaxis().get_major_formatter().set_scientific(False)\n",
    "\n",
    "ax.xaxis.set_major_locator(MaxNLocator(integer=True))\n",
    "\n",
    "ax.set_ylim([0.5,1])\n",
    "\n",
    "plt.draw()"
   ]
  },
  {
   "cell_type": "code",
   "execution_count": 33,
   "metadata": {},
   "outputs": [
    {
     "name": "stdout",
     "output_type": "stream",
     "text": [
      "------ROUND 0------\n",
      "Mean squared error: 35.379\n",
      "Coefficient of determinaton: 0.640 \n",
      "\n",
      "------ROUND 1------\n",
      "Mean squared error: 44.086\n",
      "Coefficient of determinaton: 0.552 \n",
      "\n",
      "------ROUND 2------\n",
      "Mean squared error: 40.809\n",
      "Coefficient of determinaton: 0.585 \n",
      "\n",
      "------ROUND 3------\n",
      "Mean squared error: 54.822\n",
      "Coefficient of determinaton: 0.442 \n",
      "\n",
      "------ROUND 4------\n",
      "Mean squared error: 44.155\n",
      "Coefficient of determinaton: 0.551 \n",
      "\n",
      "------ROUND 5------\n",
      "Mean squared error: 35.703\n",
      "Coefficient of determinaton: 0.637 \n",
      "\n",
      "------ROUND 6------\n",
      "Mean squared error: 35.367\n",
      "Coefficient of determinaton: 0.640 \n",
      "\n",
      "------ROUND 7------\n",
      "Mean squared error: 34.590\n",
      "Coefficient of determinaton: 0.648 \n",
      "\n",
      "------ROUND 8------\n",
      "Mean squared error: 37.835\n",
      "Coefficient of determinaton: 0.615 \n",
      "\n",
      "------ROUND 9------\n",
      "Mean squared error: 36.624\n",
      "Coefficient of determinaton: 0.628 \n",
      "\n",
      "------ROUND 10------\n",
      "Mean squared error: 46.384\n",
      "Coefficient of determinaton: 0.528 \n",
      "\n",
      "------ROUND 11------\n",
      "Mean squared error: 35.221\n",
      "Coefficient of determinaton: 0.642 \n",
      "\n",
      "------ROUND 12------\n",
      "Mean squared error: 69.837\n",
      "Coefficient of determinaton: 0.290 \n",
      "\n",
      "------ROUND 13------\n",
      "Mean squared error: 37.606\n",
      "Coefficient of determinaton: 0.618 \n",
      "\n",
      "------ROUND 14------\n",
      "Mean squared error: 37.755\n",
      "Coefficient of determinaton: 0.616 \n",
      "\n",
      "------ROUND 15------\n",
      "Mean squared error: 35.799\n",
      "Coefficient of determinaton: 0.636 \n",
      "\n",
      "------ROUND 16------\n",
      "Mean squared error: 43.044\n",
      "Coefficient of determinaton: 0.562 \n",
      "\n",
      "------ROUND 17------\n",
      "Mean squared error: 37.844\n",
      "Coefficient of determinaton: 0.615 \n",
      "\n",
      "------ROUND 18------\n",
      "Mean squared error: 38.100\n",
      "Coefficient of determinaton: 0.613 \n",
      "\n",
      "------ROUND 19------\n",
      "Mean squared error: 38.744\n",
      "Coefficient of determinaton: 0.606 \n",
      "\n"
     ]
    }
   ],
   "source": [
    "worker_list = []\n",
    "worker_list.append(Worker(coef = np.zeros(shape=dataset_X[0].size), intercept = np.zeros(shape=1), model=linear_model.LinearRegression()))\n",
    "\n",
    "server = Server(coef = np.zeros(shape=dataset_X[0].size), intercept = np.zeros(shape=1), workers = worker_list, num_features = dataset_X[0].size)\n",
    "\n",
    "\n",
    "error_single = []\n",
    "score_single = []\n",
    "\n",
    "\n",
    "for i in range(0, num_rounds):\n",
    "    \n",
    "    worker_list[0].model.fit(X = train_list_X[i*num_workers] , y = train_list_y[i*num_workers])\n",
    "    \n",
    "    pred_server = worker_list[0].model.predict(test_X)\n",
    "    print('------ROUND {}------'.format(i))\n",
    "    print('Mean squared error: %.3f' \n",
    "          % mean_squared_error(test_y, pred_server))\n",
    "    print('Coefficient of determinaton: %.3f \\n'\n",
    "          % r2_score(test_y, pred_server))\n",
    "    error_single.append(mean_squared_error(test_y, pred_server))\n",
    "    score_single.append(r2_score(test_y, pred_server))"
   ]
  },
  {
   "cell_type": "code",
   "execution_count": 36,
   "metadata": {
    "scrolled": true
   },
   "outputs": [
    {
     "data": {
      "image/png": "[encoded data removed]",
      "text/plain": [
       "<Figure size 720x360 with 1 Axes>"
      ]
     },
     "metadata": {
      "needs_background": "light"
     },
     "output_type": "display_data"
    }
   ],
   "source": [
    "figure(figsize=(10,5))\n",
    "\n",
    "x = np.arange(num_rounds)\n",
    "\n",
    "plt.plot(x, score, color='green', linewidth=3)\n",
    "plt.plot(x, score_single, color='blue')\n",
    "\n",
    "ax = plt.gca()\n",
    "ax.get_yaxis().get_major_formatter().set_scientific(False)\n",
    "\n",
    "ax.xaxis.set_major_locator(MaxNLocator(integer=True))\n",
    "\n",
    "ax.set_ylim([0,1])\n",
    "\n",
    "plt.draw()"
   ]
  },
  {
   "cell_type": "markdown",
   "metadata": {},
   "source": [
    "## Second Section"
   ]
  },
  {
   "cell_type": "code",
   "execution_count": 46,
   "metadata": {},
   "outputs": [],
   "source": [
    "num_workers = 4\n",
    "num_rounds = 10\n",
    "\n",
    "m = -2.9\n",
    "c = 1.1\n",
    "\n",
    "\n",
    "\n",
    "iterations = 10\n",
    "\n",
    "error_list = []\n",
    "score_list = []\n",
    "error_list_single = []\n",
    "score_list_single = []\n",
    "\n",
    "for iteration in range(0, iterations):\n",
    "\n",
    "    \n",
    "    # Linear Regression Coefficients\n",
    "    m = 1.4\n",
    "    c = 10\n",
    "\n",
    "    dataset_X = np.linspace(0, 10, 500)\n",
    "    np.random.shuffle(dataset_X)\n",
    "\n",
    "    dataset_y =  dataset_X * m + c +  np.random.randn(dataset_X.size) * math.sqrt(20)\n",
    "\n",
    "    dataset_X = dataset_X.reshape(-1,1)\n",
    "    dataset_y = dataset_y.reshape(-1,1)\n",
    "    \n",
    "    train_percentage = 0.9\n",
    "\n",
    "\n",
    "    train_X, test_X = np.split(dataset_X, \n",
    "                [int(train_percentage * len(dataset_X))\n",
    "                ])\n",
    "\n",
    "    train_y, test_y = np.split(dataset_y, \n",
    "                [int(train_percentage * len(dataset_y))\n",
    "                ])\n",
    "    \n",
    "    train_list_X = splitDataset(train_X, num_workers, num_rounds)\n",
    "    train_list_y = splitDataset(train_y, num_workers, num_rounds)\n",
    "    \n",
    "    worker_list = []\n",
    "    \n",
    "    \n",
    "    for i in range(0, num_workers):\n",
    "        worker_list.append(Worker(coef = np.zeros(shape=dataset_X[0].size), intercept = np.zeros(shape=1), model=linear_model.LinearRegression()))\n",
    "        \n",
    "        \n",
    "    server = Server(coef = np.zeros(shape=dataset_X[0].size), intercept = np.zeros(shape=1), workers = worker_list, num_features = dataset_X[0].size)\n",
    "    \n",
    "    \n",
    "    from collections import defaultdict\n",
    "\n",
    "    # stores losses trend for each worker along epochs\n",
    "    worker_losses_dict = defaultdict(list)\n",
    "\n",
    "\n",
    "    error = []\n",
    "    score = []\n",
    "\n",
    "\n",
    "\n",
    "    for i in range(0, num_rounds):\n",
    "\n",
    "        for j in range(0, num_workers):\n",
    "\n",
    "            worker_list[j].train(X = train_list_X[i*num_workers+j] , y = train_list_y[i*num_workers+j])\n",
    "            pred_worker = worker_list[j].evaluate(test_X)\n",
    "\n",
    "            # store loss info for current epoch \n",
    "            worker_losses_dict[j].append(mean_squared_error(test_y, pred_worker))\n",
    "\n",
    "        server.aggregation() \n",
    "        server.return_to_workers()\n",
    "\n",
    "        pred_server = server.evaluate(test_X)\n",
    "        error.append(mean_squared_error(test_y, pred_server))\n",
    "        score.append(r2_score(test_y, pred_server))\n",
    "        \n",
    "    error_list.append(error)\n",
    "    score_list.append(score)\n",
    "    \n",
    "    worker_list = []\n",
    "    worker_list.append(Worker(coef = np.zeros(shape=dataset_X[0].size), intercept = np.zeros(shape=1), model=linear_model.LinearRegression()))\n",
    "\n",
    "    server = Server(coef = np.zeros(shape=dataset_X[0].size), intercept = np.zeros(shape=1), workers = worker_list, num_features = dataset_X[0].size)\n",
    "\n",
    "\n",
    "    error_single = []\n",
    "    score_single = []\n",
    "\n",
    "    for i in range(0, num_rounds):\n",
    "\n",
    "        worker_list[0].train(X = train_list_X[i*num_workers] , y = train_list_y[i*num_workers])\n",
    "\n",
    "        server.aggregation() \n",
    "        server.return_to_workers()\n",
    "\n",
    "        pred_server = server.evaluate(test_X)\n",
    "        error_single.append(mean_squared_error(test_y, pred_server))\n",
    "        score_single.append(r2_score(test_y, pred_server))\n",
    "    \n",
    "    \n",
    "    error_list_single.append(error_single)\n",
    "    score_list_single.append(score_single)"
   ]
  },
  {
   "cell_type": "code",
   "execution_count": 47,
   "metadata": {},
   "outputs": [],
   "source": [
    "err = []\n",
    "for i in range(0, len(error_list[0])):\n",
    "    s = 0\n",
    "    for k in error_list:\n",
    "        s += k[i]\n",
    "    err.append(s / len(error_list))\n",
    "\n",
    "\n",
    "sc = []\n",
    "for i in range(0, len(score_list[0])):\n",
    "    s = 0\n",
    "    for k in score_list:\n",
    "        s += k[i]\n",
    "    sc.append(s / len(score_list))\n",
    "\n",
    "\n",
    "err_s = []\n",
    "for i in range(0, len(error_list_single[0])):\n",
    "    s = 0\n",
    "    for k in error_list_single:\n",
    "        s += k[i]\n",
    "    err_s.append(s / len(error_list_single))\n",
    "\n",
    "\n",
    "sc_s = []\n",
    "for i in range(0, len(score_list_single[0])):\n",
    "    s = 0\n",
    "    for k in score_list_single:\n",
    "        s += k[i]\n",
    "    sc_s.append(s / len(score_list_single))"
   ]
  },
  {
   "cell_type": "code",
   "execution_count": 48,
   "metadata": {
    "scrolled": true
   },
   "outputs": [
    {
     "data": {
      "text/plain": [
       "[<matplotlib.lines.Line2D at 0x7f660895d748>]"
      ]
     },
     "execution_count": 48,
     "metadata": {},
     "output_type": "execute_result"
    },
    {
     "data": {
      "text/plain": [
       "<Figure size 720x360 with 0 Axes>"
      ]
     },
     "metadata": {},
     "output_type": "display_data"
    },
    {
     "data": {
      "image/png": "[encoded data removed]",
      "text/plain": [
       "<Figure size 432x288 with 1 Axes>"
      ]
     },
     "metadata": {
      "needs_background": "light"
     },
     "output_type": "display_data"
    }
   ],
   "source": [
    "from matplotlib.pyplot import figure\n",
    "from matplotlib.ticker import MaxNLocator\n",
    "\n",
    "figure(figsize=(10,5))\n",
    "\n",
    "x = np.arange(num_rounds)\n",
    "\n",
    "ax = plt.figure().gca()\n",
    "\n",
    "ax.xaxis.set_major_locator(MaxNLocator(integer=True))\n",
    "\n",
    "plt.plot(x, err, color='red', linewidth=3)\n",
    "plt.plot(x, err_s, color='blue')"
   ]
  },
  {
   "cell_type": "code",
   "execution_count": 49,
   "metadata": {},
   "outputs": [
    {
     "data": {
      "image/png": "[encoded data removed]",
      "text/plain": [
       "<Figure size 720x360 with 1 Axes>"
      ]
     },
     "metadata": {
      "needs_background": "light"
     },
     "output_type": "display_data"
    }
   ],
   "source": [
    "figure(figsize=(10,5))\n",
    "\n",
    "x = np.arange(num_rounds)\n",
    "\n",
    "plt.plot(x, sc, color='green', linewidth=3)\n",
    "plt.plot(x, sc_s, color='blue')\n",
    "\n",
    "ax = plt.gca()\n",
    "ax.get_yaxis().get_major_formatter().set_scientific(False)\n",
    "\n",
    "ax.xaxis.set_major_locator(MaxNLocator(integer=True))\n",
    "\n",
    "#ax.set_ylim([0.5,1])\n",
    "\n",
    "plt.draw()"
   ]
  }
 ],
 "metadata": {
  "kernelspec": {
   "display_name": "Python (tensorflow_cpu)",
   "language": "python",
   "name": "tensorflow_cpu"
  },
  "language_info": {
   "codemirror_mode": {
    "name": "ipython",
    "version": 3
   },
   "file_extension": ".py",
   "mimetype": "text/x-python",
   "name": "python",
   "nbconvert_exporter": "python",
   "pygments_lexer": "ipython3",
   "version": "3.6.9"
  }
 },
 "nbformat": 4,
 "nbformat_minor": 2
}
