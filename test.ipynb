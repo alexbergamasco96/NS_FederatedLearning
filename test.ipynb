{
 "cells": [
  {
   "cell_type": "markdown",
   "metadata": {},
   "source": [
    "# Test Notebook\n",
    "\n",
    "\n",
    "## **Multi-Round Execution** \n",
    "Automatic computation of the algorithm.\n",
    "\n",
    "### First Section:\n",
    "Single Execution of the algorithm\n",
    "### Second Section:\n",
    "Average of results during multiple executions (score and losses are averaged)."
   ]
  },
  {
   "cell_type": "code",
   "execution_count": 61,
   "metadata": {},
   "outputs": [],
   "source": [
    "import os\n",
    "import numpy as np\n",
    "import math\n",
    "\n",
    "from Stationary.core import *\n",
    "from Stationary.utils import *\n",
    "\n",
    "from sklearn import linear_model, datasets\n",
    "from sklearn.metrics import mean_squared_error, r2_score\n",
    "\n",
    "import matplotlib.pyplot as plt\n"
   ]
  },
  {
   "cell_type": "markdown",
   "metadata": {},
   "source": [
    "# First Section"
   ]
  },
  {
   "cell_type": "code",
   "execution_count": 62,
   "metadata": {},
   "outputs": [],
   "source": [
    "num_workers = 4\n",
    "num_rounds = 20\n",
    "\n",
    "m = -2.9\n",
    "c = 1.1"
   ]
  },
  {
   "cell_type": "code",
   "execution_count": 63,
   "metadata": {},
   "outputs": [],
   "source": [
    "dataset_X = np.linspace(0, 10, 1000)\n",
    "np.random.shuffle(dataset_X)\n",
    "\n",
    "dataset_y =  dataset_X * m + c +  np.random.randn(dataset_X.size) * math.sqrt(1)\n",
    "\n",
    "dataset_X = dataset_X.reshape(-1,1)"
   ]
  },
  {
   "cell_type": "code",
   "execution_count": 64,
   "metadata": {},
   "outputs": [],
   "source": [
    "worker_list = []\n",
    "for i in range(0, num_workers):\n",
    "    worker_list.append(Worker(coef = np.zeros(shape=dataset_X[0].size), intercept = np.zeros(shape=1), model=linear_model.LinearRegression()))"
   ]
  },
  {
   "cell_type": "code",
   "execution_count": 65,
   "metadata": {},
   "outputs": [],
   "source": [
    "train_percentage = 0.9\n",
    "\n",
    "\n",
    "train_X, test_X = np.split(dataset_X, \n",
    "            [int(train_percentage * len(dataset_X))\n",
    "            ])\n",
    "\n",
    "train_y, test_y = np.split(dataset_y, \n",
    "            [int(train_percentage * len(dataset_y))\n",
    "            ])"
   ]
  },
  {
   "cell_type": "code",
   "execution_count": 66,
   "metadata": {},
   "outputs": [],
   "source": [
    "server = Server(coef = np.zeros(shape=dataset_X[0].size), intercept = np.zeros(shape=1), workers = worker_list, num_features = dataset_X[0].size)"
   ]
  },
  {
   "cell_type": "code",
   "execution_count": 67,
   "metadata": {},
   "outputs": [],
   "source": [
    "train_list_X = splitDataset(train_X, num_workers, num_rounds)\n",
    "train_list_y = splitDataset(train_y, num_workers, num_rounds)"
   ]
  },
  {
   "cell_type": "code",
   "execution_count": 68,
   "metadata": {
    "scrolled": true
   },
   "outputs": [
    {
     "name": "stdout",
     "output_type": "stream",
     "text": [
      "------ROUND 1------\n",
      "Mean squared error: 1.189\n",
      "Coefficient of determinaton: 0.983 \n",
      "\n",
      "------ROUND 2------\n",
      "Mean squared error: 1.140\n",
      "Coefficient of determinaton: 0.984 \n",
      "\n",
      "------ROUND 3------\n",
      "Mean squared error: 1.149\n",
      "Coefficient of determinaton: 0.984 \n",
      "\n",
      "------ROUND 4------\n",
      "Mean squared error: 1.163\n",
      "Coefficient of determinaton: 0.983 \n",
      "\n",
      "------ROUND 5------\n",
      "Mean squared error: 1.160\n",
      "Coefficient of determinaton: 0.983 \n",
      "\n",
      "------ROUND 6------\n",
      "Mean squared error: 1.152\n",
      "Coefficient of determinaton: 0.983 \n",
      "\n",
      "------ROUND 7------\n",
      "Mean squared error: 1.159\n",
      "Coefficient of determinaton: 0.983 \n",
      "\n",
      "------ROUND 8------\n",
      "Mean squared error: 1.158\n",
      "Coefficient of determinaton: 0.983 \n",
      "\n",
      "------ROUND 9------\n",
      "Mean squared error: 1.159\n",
      "Coefficient of determinaton: 0.983 \n",
      "\n",
      "------ROUND 10------\n",
      "Mean squared error: 1.164\n",
      "Coefficient of determinaton: 0.983 \n",
      "\n",
      "------ROUND 11------\n",
      "Mean squared error: 1.167\n",
      "Coefficient of determinaton: 0.983 \n",
      "\n",
      "------ROUND 12------\n",
      "Mean squared error: 1.165\n",
      "Coefficient of determinaton: 0.983 \n",
      "\n",
      "------ROUND 13------\n",
      "Mean squared error: 1.166\n",
      "Coefficient of determinaton: 0.983 \n",
      "\n",
      "------ROUND 14------\n",
      "Mean squared error: 1.162\n",
      "Coefficient of determinaton: 0.983 \n",
      "\n",
      "------ROUND 15------\n",
      "Mean squared error: 1.159\n",
      "Coefficient of determinaton: 0.983 \n",
      "\n",
      "------ROUND 16------\n",
      "Mean squared error: 1.161\n",
      "Coefficient of determinaton: 0.983 \n",
      "\n",
      "------ROUND 17------\n",
      "Mean squared error: 1.163\n",
      "Coefficient of determinaton: 0.983 \n",
      "\n",
      "------ROUND 18------\n",
      "Mean squared error: 1.163\n",
      "Coefficient of determinaton: 0.983 \n",
      "\n",
      "------ROUND 19------\n",
      "Mean squared error: 1.161\n",
      "Coefficient of determinaton: 0.983 \n",
      "\n",
      "------ROUND 20------\n",
      "Mean squared error: 1.162\n",
      "Coefficient of determinaton: 0.983 \n",
      "\n"
     ]
    }
   ],
   "source": [
    "error = []\n",
    "score = []\n",
    "\n",
    "for i in range(0, num_rounds):\n",
    "    \n",
    "    for j in range(0, num_workers):\n",
    "        worker_list[j].train(X = train_list_X[i*num_workers+j] , y = train_list_y[i*num_workers+j])\n",
    "\n",
    "    server.aggregation() \n",
    "    server.return_to_workers()\n",
    "    \n",
    "    pred_server = server.evaluate(test_X)\n",
    "    print('------ROUND {}------'.format(i+1))\n",
    "    print('Mean squared error: %.3f' \n",
    "          % mean_squared_error(test_y, pred_server))\n",
    "    print('Coefficient of determinaton: %.3f \\n'\n",
    "          % r2_score(test_y, pred_server))\n",
    "    error.append(mean_squared_error(test_y, pred_server))\n",
    "    score.append(r2_score(test_y, pred_server))\n",
    "    "
   ]
  },
  {
   "cell_type": "code",
   "execution_count": 69,
   "metadata": {},
   "outputs": [
    {
     "data": {
      "text/plain": [
       "<Figure size 432x288 with 0 Axes>"
      ]
     },
     "metadata": {},
     "output_type": "display_data"
    },
    {
     "data": {
      "image/png": "[encoded data removed]",
      "text/plain": [
       "<Figure size 432x288 with 1 Axes>"
      ]
     },
     "metadata": {
      "needs_background": "light"
     },
     "output_type": "display_data"
    }
   ],
   "source": [
    "plt.clf()\n",
    "\n",
    "ax = plt.figure().gca()\n",
    "\n",
    "plt.plot(test_X, test_y, 'go', label='True data', alpha=0.5)\n",
    "plt.plot(test_X, pred_server, '--', label='Predictions', alpha=0.8)\n",
    "plt.legend(loc='best')\n",
    "\n",
    "ax.set_xlabel(\"Inputs - X Values\")\n",
    "ax.set_ylabel(\"Outputs - Y Values\")\n",
    "\n",
    "plt.show()"
   ]
  },
  {
   "cell_type": "code",
   "execution_count": 70,
   "metadata": {},
   "outputs": [
    {
     "data": {
      "text/plain": [
       "<Figure size 720x360 with 0 Axes>"
      ]
     },
     "metadata": {},
     "output_type": "display_data"
    },
    {
     "data": {
      "image/png": "[encoded data removed]",
      "text/plain": [
       "<Figure size 432x288 with 1 Axes>"
      ]
     },
     "metadata": {
      "needs_background": "light"
     },
     "output_type": "display_data"
    }
   ],
   "source": [
    "from matplotlib.pyplot import figure\n",
    "from matplotlib.ticker import MaxNLocator\n",
    "\n",
    "figure(figsize=(10,5))\n",
    "\n",
    "x = np.arange(num_rounds)\n",
    "\n",
    "ax = plt.figure().gca()\n",
    "\n",
    "ax.xaxis.set_major_locator(MaxNLocator(integer=True))\n",
    "\n",
    "plt.plot(x, error, color='red', linewidth=3)\n",
    "\n",
    "ax.set_xlabel(\"Rounds\")\n",
    "ax.set_ylabel(\"MSE\")\n",
    "\n",
    "plt.draw()\n"
   ]
  },
  {
   "cell_type": "code",
   "execution_count": 71,
   "metadata": {
    "scrolled": true
   },
   "outputs": [
    {
     "data": {
      "image/png": "[encoded data removed]",
      "text/plain": [
       "<Figure size 720x360 with 1 Axes>"
      ]
     },
     "metadata": {
      "needs_background": "light"
     },
     "output_type": "display_data"
    }
   ],
   "source": [
    "figure(figsize=(10,5))\n",
    "\n",
    "x = np.arange(num_rounds)\n",
    "\n",
    "plt.plot(x, score, color='green', linewidth=3)\n",
    "\n",
    "ax = plt.gca()\n",
    "ax.get_yaxis().get_major_formatter().set_scientific(False)\n",
    "\n",
    "ax.xaxis.set_major_locator(MaxNLocator(integer=True))\n",
    "\n",
    "ax.set_xlabel(\"Rounds\")\n",
    "ax.set_ylabel(\"R2 Score\")\n",
    "\n",
    "plt.draw()"
   ]
  },
  {
   "cell_type": "code",
   "execution_count": 72,
   "metadata": {},
   "outputs": [
    {
     "name": "stdout",
     "output_type": "stream",
     "text": [
      "[ 1.25549073 -2.94015448]\n",
      "SE(beta_hat[0]): 0.2253075324722199\n",
      "SE(beta_hat[1]): 0.038655796099122466\n"
     ]
    }
   ],
   "source": [
    "N = len(test_X)\n",
    "p = len(test_X[0]) + 1\n",
    "\n",
    "\n",
    "X_with_intercept = np.empty(shape=(N, p), dtype=np.float)\n",
    "X_with_intercept[:, 0] = 1\n",
    "X_with_intercept[:, 1:p] = test_X\n",
    "\n",
    "beta_hat = np.linalg.inv(X_with_intercept.T @ X_with_intercept) @ X_with_intercept.T @ test_y\n",
    "print(beta_hat)\n",
    "\n",
    "y_hat = pred_server\n",
    "residuals = test_y - y_hat\n",
    "residual_sum_of_squares = residuals.T @ residuals\n",
    "sigma_squared_hat = residual_sum_of_squares / (N - p)\n",
    "var_beta_hat = np.linalg.inv(X_with_intercept.T @ X_with_intercept) * sigma_squared_hat\n",
    "for p_ in range(p):\n",
    "    standard_error = var_beta_hat[p_, p_] ** 0.5\n",
    "    print(f\"SE(beta_hat[{p_}]): {standard_error}\")"
   ]
  },
  {
   "cell_type": "markdown",
   "metadata": {},
   "source": [
    "## Evaluating only the single worker"
   ]
  },
  {
   "cell_type": "code",
   "execution_count": 73,
   "metadata": {
    "scrolled": true
   },
   "outputs": [
    {
     "name": "stdout",
     "output_type": "stream",
     "text": [
      "------ROUND 1------\n",
      "Mean squared error: 1.155\n",
      "Coefficient of determinaton: 0.983 \n",
      "\n",
      "------ROUND 2------\n",
      "Mean squared error: 1.158\n",
      "Coefficient of determinaton: 0.983 \n",
      "\n",
      "------ROUND 3------\n",
      "Mean squared error: 1.153\n",
      "Coefficient of determinaton: 0.983 \n",
      "\n",
      "------ROUND 4------\n",
      "Mean squared error: 1.193\n",
      "Coefficient of determinaton: 0.983 \n",
      "\n",
      "------ROUND 5------\n",
      "Mean squared error: 1.197\n",
      "Coefficient of determinaton: 0.983 \n",
      "\n",
      "------ROUND 6------\n",
      "Mean squared error: 1.161\n",
      "Coefficient of determinaton: 0.983 \n",
      "\n",
      "------ROUND 7------\n",
      "Mean squared error: 1.173\n",
      "Coefficient of determinaton: 0.983 \n",
      "\n",
      "------ROUND 8------\n",
      "Mean squared error: 1.177\n",
      "Coefficient of determinaton: 0.983 \n",
      "\n",
      "------ROUND 9------\n",
      "Mean squared error: 1.176\n",
      "Coefficient of determinaton: 0.983 \n",
      "\n",
      "------ROUND 10------\n",
      "Mean squared error: 1.179\n",
      "Coefficient of determinaton: 0.983 \n",
      "\n",
      "------ROUND 11------\n",
      "Mean squared error: 1.175\n",
      "Coefficient of determinaton: 0.983 \n",
      "\n",
      "------ROUND 12------\n",
      "Mean squared error: 1.183\n",
      "Coefficient of determinaton: 0.983 \n",
      "\n",
      "------ROUND 13------\n",
      "Mean squared error: 1.196\n",
      "Coefficient of determinaton: 0.983 \n",
      "\n",
      "------ROUND 14------\n",
      "Mean squared error: 1.185\n",
      "Coefficient of determinaton: 0.983 \n",
      "\n",
      "------ROUND 15------\n",
      "Mean squared error: 1.182\n",
      "Coefficient of determinaton: 0.983 \n",
      "\n",
      "------ROUND 16------\n",
      "Mean squared error: 1.184\n",
      "Coefficient of determinaton: 0.983 \n",
      "\n",
      "------ROUND 17------\n",
      "Mean squared error: 1.180\n",
      "Coefficient of determinaton: 0.983 \n",
      "\n",
      "------ROUND 18------\n",
      "Mean squared error: 1.179\n",
      "Coefficient of determinaton: 0.983 \n",
      "\n",
      "------ROUND 19------\n",
      "Mean squared error: 1.187\n",
      "Coefficient of determinaton: 0.983 \n",
      "\n",
      "------ROUND 20------\n",
      "Mean squared error: 1.195\n",
      "Coefficient of determinaton: 0.983 \n",
      "\n"
     ]
    }
   ],
   "source": [
    "worker_list = []\n",
    "worker_list.append(Worker(coef = np.zeros(shape=dataset_X[0].size), intercept = np.zeros(shape=1), model=linear_model.LinearRegression()))\n",
    "\n",
    "server = Server(coef = np.zeros(shape=dataset_X[0].size), intercept = np.zeros(shape=1), workers = worker_list, num_features = dataset_X[0].size)\n",
    "\n",
    "\n",
    "error_single = []\n",
    "score_single = []\n",
    "\n",
    "for i in range(0, num_rounds):\n",
    "    \n",
    "    worker_list[0].train(X = train_list_X[i*num_workers] , y = train_list_y[i*num_workers])\n",
    "\n",
    "    server.aggregation() \n",
    "    server.return_to_workers()\n",
    "    \n",
    "    pred_server = server.evaluate(test_X)\n",
    "    print('------ROUND {}------'.format(i+1))\n",
    "    print('Mean squared error: %.3f' \n",
    "          % mean_squared_error(test_y, pred_server))\n",
    "    print('Coefficient of determinaton: %.3f \\n'\n",
    "          % r2_score(test_y, pred_server))\n",
    "    error_single.append(mean_squared_error(test_y, pred_server))\n",
    "    score_single.append(r2_score(test_y, pred_server))"
   ]
  },
  {
   "cell_type": "code",
   "execution_count": 74,
   "metadata": {},
   "outputs": [
    {
     "data": {
      "text/plain": [
       "<Figure size 720x360 with 0 Axes>"
      ]
     },
     "metadata": {},
     "output_type": "display_data"
    },
    {
     "data": {
      "image/png": "[encoded data removed]",
      "text/plain": [
       "<Figure size 432x288 with 1 Axes>"
      ]
     },
     "metadata": {
      "needs_background": "light"
     },
     "output_type": "display_data"
    }
   ],
   "source": [
    "from matplotlib.pyplot import figure\n",
    "from matplotlib.ticker import MaxNLocator\n",
    "\n",
    "figure(figsize=(10,5))\n",
    "\n",
    "x = np.arange(num_rounds)\n",
    "\n",
    "ax = plt.figure().gca()\n",
    "\n",
    "ax.xaxis.set_major_locator(MaxNLocator(integer=True))\n",
    "\n",
    "plt.plot(x, error, color='red', linewidth=3)\n",
    "plt.plot(x, error_single, color='blue')\n",
    "\n",
    "ax.set_xlabel(\"Rounds\")\n",
    "ax.set_ylabel(\"MSE\")\n",
    "\n",
    "plt.draw()\n"
   ]
  },
  {
   "cell_type": "code",
   "execution_count": 75,
   "metadata": {
    "scrolled": true
   },
   "outputs": [
    {
     "data": {
      "image/png": "[encoded data removed]",
      "text/plain": [
       "<Figure size 720x360 with 1 Axes>"
      ]
     },
     "metadata": {
      "needs_background": "light"
     },
     "output_type": "display_data"
    }
   ],
   "source": [
    "figure(figsize=(10,5))\n",
    "\n",
    "x = np.arange(num_rounds)\n",
    "\n",
    "plt.plot(x, score, color='green', linewidth=3)\n",
    "plt.plot(x, score_single, color='blue')\n",
    "\n",
    "ax = plt.gca()\n",
    "ax.get_yaxis().get_major_formatter().set_scientific(False)\n",
    "\n",
    "ax.xaxis.set_major_locator(MaxNLocator(integer=True))\n",
    "\n",
    "ax.set_ylim([0.5,1])\n",
    "\n",
    "ax.set_xlabel(\"Rounds\")\n",
    "ax.set_ylabel(\"R2 Score\")\n",
    "\n",
    "plt.draw()"
   ]
  },
  {
   "cell_type": "code",
   "execution_count": 76,
   "metadata": {},
   "outputs": [
    {
     "name": "stdout",
     "output_type": "stream",
     "text": [
      "[ 1.25549073 -2.94015448]\n",
      "SE(beta_hat[0]): 0.22840924256192835\n",
      "SE(beta_hat[1]): 0.0391879535084676\n"
     ]
    }
   ],
   "source": [
    "N = len(test_X)\n",
    "p = len(test_X[0]) + 1\n",
    "\n",
    "\n",
    "X_with_intercept = np.empty(shape=(N, p), dtype=np.float)\n",
    "X_with_intercept[:, 0] = 1\n",
    "X_with_intercept[:, 1:p] = test_X\n",
    "\n",
    "beta_hat = np.linalg.inv(X_with_intercept.T @ X_with_intercept) @ X_with_intercept.T @ test_y\n",
    "print(beta_hat)\n",
    "\n",
    "y_hat = pred_server\n",
    "residuals = test_y - y_hat\n",
    "residual_sum_of_squares = residuals.T @ residuals\n",
    "sigma_squared_hat = residual_sum_of_squares / (N - p)\n",
    "var_beta_hat = np.linalg.inv(X_with_intercept.T @ X_with_intercept) * sigma_squared_hat\n",
    "for p_ in range(p):\n",
    "    standard_error = var_beta_hat[p_, p_] ** 0.5\n",
    "    print(f\"SE(beta_hat[{p_}]): {standard_error}\")"
   ]
  },
  {
   "cell_type": "code",
   "execution_count": 77,
   "metadata": {},
   "outputs": [
    {
     "name": "stdout",
     "output_type": "stream",
     "text": [
      "------ROUND 0------\n",
      "Mean squared error: 1.155\n",
      "Coefficient of determinaton: 0.983 \n",
      "\n",
      "------ROUND 1------\n",
      "Mean squared error: 1.172\n",
      "Coefficient of determinaton: 0.983 \n",
      "\n",
      "------ROUND 2------\n",
      "Mean squared error: 1.283\n",
      "Coefficient of determinaton: 0.982 \n",
      "\n",
      "------ROUND 3------\n",
      "Mean squared error: 1.720\n",
      "Coefficient of determinaton: 0.975 \n",
      "\n",
      "------ROUND 4------\n",
      "Mean squared error: 1.270\n",
      "Coefficient of determinaton: 0.982 \n",
      "\n",
      "------ROUND 5------\n",
      "Mean squared error: 1.226\n",
      "Coefficient of determinaton: 0.982 \n",
      "\n",
      "------ROUND 6------\n",
      "Mean squared error: 1.342\n",
      "Coefficient of determinaton: 0.981 \n",
      "\n",
      "------ROUND 7------\n",
      "Mean squared error: 1.211\n",
      "Coefficient of determinaton: 0.983 \n",
      "\n",
      "------ROUND 8------\n",
      "Mean squared error: 1.166\n",
      "Coefficient of determinaton: 0.983 \n",
      "\n",
      "------ROUND 9------\n",
      "Mean squared error: 2.110\n",
      "Coefficient of determinaton: 0.970 \n",
      "\n",
      "------ROUND 10------\n",
      "Mean squared error: 1.165\n",
      "Coefficient of determinaton: 0.983 \n",
      "\n",
      "------ROUND 11------\n",
      "Mean squared error: 1.323\n",
      "Coefficient of determinaton: 0.981 \n",
      "\n",
      "------ROUND 12------\n",
      "Mean squared error: 1.484\n",
      "Coefficient of determinaton: 0.979 \n",
      "\n",
      "------ROUND 13------\n",
      "Mean squared error: 1.191\n",
      "Coefficient of determinaton: 0.983 \n",
      "\n",
      "------ROUND 14------\n",
      "Mean squared error: 1.151\n",
      "Coefficient of determinaton: 0.983 \n",
      "\n",
      "------ROUND 15------\n",
      "Mean squared error: 1.211\n",
      "Coefficient of determinaton: 0.983 \n",
      "\n",
      "------ROUND 16------\n",
      "Mean squared error: 1.346\n",
      "Coefficient of determinaton: 0.981 \n",
      "\n",
      "------ROUND 17------\n",
      "Mean squared error: 1.172\n",
      "Coefficient of determinaton: 0.983 \n",
      "\n",
      "------ROUND 18------\n",
      "Mean squared error: 1.560\n",
      "Coefficient of determinaton: 0.978 \n",
      "\n",
      "------ROUND 19------\n",
      "Mean squared error: 1.655\n",
      "Coefficient of determinaton: 0.976 \n",
      "\n"
     ]
    }
   ],
   "source": [
    "worker_list = []\n",
    "worker_list.append(Worker(coef = np.zeros(shape=dataset_X[0].size), intercept = np.zeros(shape=1), model=linear_model.LinearRegression()))\n",
    "\n",
    "server = Server(coef = np.zeros(shape=dataset_X[0].size), intercept = np.zeros(shape=1), workers = worker_list, num_features = dataset_X[0].size)\n",
    "\n",
    "\n",
    "error_single = []\n",
    "score_single = []\n",
    "\n",
    "\n",
    "for i in range(0, num_rounds):\n",
    "    \n",
    "    worker_list[0].model.fit(X = train_list_X[i*num_workers] , y = train_list_y[i*num_workers])\n",
    "    \n",
    "    pred_server = worker_list[0].model.predict(test_X)\n",
    "    print('------ROUND {}------'.format(i))\n",
    "    print('Mean squared error: %.3f' \n",
    "          % mean_squared_error(test_y, pred_server))\n",
    "    print('Coefficient of determinaton: %.3f \\n'\n",
    "          % r2_score(test_y, pred_server))\n",
    "    error_single.append(mean_squared_error(test_y, pred_server))\n",
    "    score_single.append(r2_score(test_y, pred_server))"
   ]
  },
  {
   "cell_type": "code",
   "execution_count": 78,
   "metadata": {
    "scrolled": true
   },
   "outputs": [
    {
     "data": {
      "image/png": "[encoded data removed]",
      "text/plain": [
       "<Figure size 720x360 with 1 Axes>"
      ]
     },
     "metadata": {
      "needs_background": "light"
     },
     "output_type": "display_data"
    }
   ],
   "source": [
    "figure(figsize=(10,5))\n",
    "\n",
    "x = np.arange(num_rounds)\n",
    "\n",
    "plt.plot(x, score, color='green', linewidth=3)\n",
    "plt.plot(x, score_single, color='blue')\n",
    "\n",
    "ax = plt.gca()\n",
    "ax.get_yaxis().get_major_formatter().set_scientific(False)\n",
    "\n",
    "ax.xaxis.set_major_locator(MaxNLocator(integer=True))\n",
    "\n",
    "ax.set_ylim([0,1])\n",
    "\n",
    "ax.set_xlabel(\"Rounds\")\n",
    "ax.set_ylabel(\"R2 Score\")\n",
    "\n",
    "plt.draw()"
   ]
  },
  {
   "cell_type": "markdown",
   "metadata": {},
   "source": [
    "## Second Section"
   ]
  },
  {
   "cell_type": "code",
   "execution_count": 79,
   "metadata": {},
   "outputs": [],
   "source": [
    "num_workers = 4\n",
    "num_rounds = 10\n",
    "\n",
    "m = -2.9\n",
    "c = 1.1\n",
    "\n",
    "\n",
    "\n",
    "iterations = 10\n",
    "\n",
    "error_list = []\n",
    "score_list = []\n",
    "error_list_single = []\n",
    "score_list_single = []\n",
    "\n",
    "for iteration in range(0, iterations):\n",
    "\n",
    "    \n",
    "    # Linear Regression Coefficients\n",
    "    m = 1.4\n",
    "    c = 10\n",
    "\n",
    "    dataset_X = np.linspace(0, 10, 500)\n",
    "    np.random.shuffle(dataset_X)\n",
    "\n",
    "    dataset_y =  dataset_X * m + c +  np.random.randn(dataset_X.size) * math.sqrt(20)\n",
    "\n",
    "    dataset_X = dataset_X.reshape(-1,1)\n",
    "    dataset_y = dataset_y.reshape(-1,1)\n",
    "    \n",
    "    train_percentage = 0.9\n",
    "\n",
    "\n",
    "    train_X, test_X = np.split(dataset_X, \n",
    "                [int(train_percentage * len(dataset_X))\n",
    "                ])\n",
    "\n",
    "    train_y, test_y = np.split(dataset_y, \n",
    "                [int(train_percentage * len(dataset_y))\n",
    "                ])\n",
    "    \n",
    "    train_list_X = splitDataset(train_X, num_workers, num_rounds)\n",
    "    train_list_y = splitDataset(train_y, num_workers, num_rounds)\n",
    "    \n",
    "    worker_list = []\n",
    "    \n",
    "    \n",
    "    for i in range(0, num_workers):\n",
    "        worker_list.append(Worker(coef = np.zeros(shape=dataset_X[0].size), intercept = np.zeros(shape=1), model=linear_model.LinearRegression()))\n",
    "        \n",
    "        \n",
    "    server = Server(coef = np.zeros(shape=dataset_X[0].size), intercept = np.zeros(shape=1), workers = worker_list, num_features = dataset_X[0].size)\n",
    "    \n",
    "    \n",
    "    from collections import defaultdict\n",
    "\n",
    "    # stores losses trend for each worker along epochs\n",
    "    worker_losses_dict = defaultdict(list)\n",
    "\n",
    "\n",
    "    error = []\n",
    "    score = []\n",
    "\n",
    "\n",
    "\n",
    "    for i in range(0, num_rounds):\n",
    "\n",
    "        for j in range(0, num_workers):\n",
    "\n",
    "            worker_list[j].train(X = train_list_X[i*num_workers+j] , y = train_list_y[i*num_workers+j])\n",
    "            pred_worker = worker_list[j].evaluate(test_X)\n",
    "\n",
    "            # store loss info for current epoch \n",
    "            worker_losses_dict[j].append(mean_squared_error(test_y, pred_worker))\n",
    "\n",
    "        server.aggregation() \n",
    "        server.return_to_workers()\n",
    "\n",
    "        pred_server = server.evaluate(test_X)\n",
    "        error.append(mean_squared_error(test_y, pred_server))\n",
    "        score.append(r2_score(test_y, pred_server))\n",
    "        \n",
    "    error_list.append(error)\n",
    "    score_list.append(score)\n",
    "    \n",
    "    worker_list = []\n",
    "    worker_list.append(Worker(coef = np.zeros(shape=dataset_X[0].size), intercept = np.zeros(shape=1), model=linear_model.LinearRegression()))\n",
    "\n",
    "    server = Server(coef = np.zeros(shape=dataset_X[0].size), intercept = np.zeros(shape=1), workers = worker_list, num_features = dataset_X[0].size)\n",
    "\n",
    "\n",
    "    error_single = []\n",
    "    score_single = []\n",
    "\n",
    "    for i in range(0, num_rounds):\n",
    "\n",
    "        worker_list[0].train(X = train_list_X[i*num_workers] , y = train_list_y[i*num_workers])\n",
    "\n",
    "        server.aggregation() \n",
    "        server.return_to_workers()\n",
    "\n",
    "        pred_server = server.evaluate(test_X)\n",
    "        error_single.append(mean_squared_error(test_y, pred_server))\n",
    "        score_single.append(r2_score(test_y, pred_server))\n",
    "    \n",
    "    \n",
    "    error_list_single.append(error_single)\n",
    "    score_list_single.append(score_single)"
   ]
  },
  {
   "cell_type": "code",
   "execution_count": 80,
   "metadata": {},
   "outputs": [],
   "source": [
    "err = []\n",
    "for i in range(0, len(error_list[0])):\n",
    "    s = 0\n",
    "    for k in error_list:\n",
    "        s += k[i]\n",
    "    err.append(s / len(error_list))\n",
    "\n",
    "\n",
    "sc = []\n",
    "for i in range(0, len(score_list[0])):\n",
    "    s = 0\n",
    "    for k in score_list:\n",
    "        s += k[i]\n",
    "    sc.append(s / len(score_list))\n",
    "\n",
    "\n",
    "err_s = []\n",
    "for i in range(0, len(error_list_single[0])):\n",
    "    s = 0\n",
    "    for k in error_list_single:\n",
    "        s += k[i]\n",
    "    err_s.append(s / len(error_list_single))\n",
    "\n",
    "\n",
    "sc_s = []\n",
    "for i in range(0, len(score_list_single[0])):\n",
    "    s = 0\n",
    "    for k in score_list_single:\n",
    "        s += k[i]\n",
    "    sc_s.append(s / len(score_list_single))"
   ]
  },
  {
   "cell_type": "code",
   "execution_count": 81,
   "metadata": {
    "scrolled": true
   },
   "outputs": [
    {
     "data": {
      "text/plain": [
       "<Figure size 720x360 with 0 Axes>"
      ]
     },
     "metadata": {},
     "output_type": "display_data"
    },
    {
     "data": {
      "image/png": "[encoded data removed]",
      "text/plain": [
       "<Figure size 432x288 with 1 Axes>"
      ]
     },
     "metadata": {
      "needs_background": "light"
     },
     "output_type": "display_data"
    }
   ],
   "source": [
    "from matplotlib.pyplot import figure\n",
    "from matplotlib.ticker import MaxNLocator\n",
    "\n",
    "figure(figsize=(10,5))\n",
    "\n",
    "x = np.arange(num_rounds)\n",
    "\n",
    "ax = plt.figure().gca()\n",
    "\n",
    "ax.xaxis.set_major_locator(MaxNLocator(integer=True))\n",
    "\n",
    "plt.plot(x, err, color='red', label='Aggregated Model', linewidth=3)\n",
    "plt.plot(x, err_s, color='blue', label='Single Worker')\n",
    "plt.legend(loc='best')\n",
    "\n",
    "ax.set_xlabel(\"Rounds\")\n",
    "ax.set_ylabel(\"MSE\")\n",
    "\n",
    "plt.draw()"
   ]
  },
  {
   "cell_type": "code",
   "execution_count": 82,
   "metadata": {},
   "outputs": [
    {
     "data": {
      "image/png": "[encoded data removed]",
      "text/plain": [
       "<Figure size 720x360 with 1 Axes>"
      ]
     },
     "metadata": {
      "needs_background": "light"
     },
     "output_type": "display_data"
    }
   ],
   "source": [
    "figure(figsize=(10,5))\n",
    "\n",
    "x = np.arange(num_rounds)\n",
    "\n",
    "plt.plot(x, sc, color='red',label='Aggregated Model', linewidth=3)\n",
    "plt.plot(x, sc_s, color='blue', label='Single Worker')\n",
    "\n",
    "ax = plt.gca()\n",
    "ax.get_yaxis().get_major_formatter().set_scientific(False)\n",
    "\n",
    "ax.xaxis.set_major_locator(MaxNLocator(integer=True))\n",
    "\n",
    "ax.set_xlabel(\"Rounds\")\n",
    "ax.set_ylabel(\"R2 Score\")\n",
    "plt.legend(loc='best')\n",
    "\n",
    "plt.draw()"
   ]
  }
 ],
 "metadata": {
  "kernelspec": {
   "display_name": "Python (tensorflow_cpu)",
   "language": "python",
   "name": "tensorflow_cpu"
  },
  "language_info": {
   "codemirror_mode": {
    "name": "ipython",
    "version": 3
   },
   "file_extension": ".py",
   "mimetype": "text/x-python",
   "name": "python",
   "nbconvert_exporter": "python",
   "pygments_lexer": "ipython3",
   "version": "3.6.9"
  }
 },
 "nbformat": 4,
 "nbformat_minor": 2
}
