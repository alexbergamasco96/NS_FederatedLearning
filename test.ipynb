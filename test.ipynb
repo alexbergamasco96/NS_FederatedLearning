{
 "cells": [
  {
   "cell_type": "markdown",
   "metadata": {},
   "source": [
    "# Test Notebook\n",
    "\n",
    "**Simple Execution** is the first test, where I manually instantiate all the necessary classes and perform a non-automatic computation.\n",
    "\n",
    "**Multi-Round Execution** is the automatic computation of the algorithm."
   ]
  },
  {
   "cell_type": "code",
   "execution_count": 34,
   "metadata": {},
   "outputs": [],
   "source": [
    "import os\n",
    "import numpy as np\n",
    "import math\n",
    "\n",
    "from Stationary.core import *\n",
    "from Stationary.utils import *\n",
    "\n",
    "from sklearn import linear_model, datasets\n",
    "from sklearn.metrics import mean_squared_error, r2_score\n",
    "\n",
    "import matplotlib.pyplot as plt\n"
   ]
  },
  {
   "cell_type": "markdown",
   "metadata": {},
   "source": [
    "## Simple Execution"
   ]
  },
  {
   "cell_type": "code",
   "execution_count": null,
   "metadata": {},
   "outputs": [],
   "source": [
    "w1 = Worker(coef = np.array([0, 0]), intercept = np.array([0]), model=linear_model.LinearRegression())\n",
    "w2 = Worker(coef = np.array([0, 0]), intercept = np.array([0]), model=linear_model.LinearRegression())\n",
    "w3 = Worker(coef = np.array([0, 0]), intercept = np.array([0]), model=linear_model.LinearRegression())"
   ]
  },
  {
   "cell_type": "code",
   "execution_count": null,
   "metadata": {},
   "outputs": [],
   "source": [
    "l = []\n",
    "l.append(w1)\n",
    "l.append(w2)\n",
    "l.append(w3)"
   ]
  },
  {
   "cell_type": "code",
   "execution_count": null,
   "metadata": {},
   "outputs": [],
   "source": [
    "dataset_X, dataset_y = datasets.load_diabetes(return_X_y=True)"
   ]
  },
  {
   "cell_type": "code",
   "execution_count": null,
   "metadata": {},
   "outputs": [],
   "source": [
    "server = Server(coef = np.array([0, 0]), intercept = np.array([0]), workers = l, num_features = dataset_X[0].size)"
   ]
  },
  {
   "cell_type": "code",
   "execution_count": null,
   "metadata": {},
   "outputs": [],
   "source": [
    "train_w1_X, train_w2_X, train_w3_X, test_X = np.split(dataset_X, \n",
    "                                                      [int(.25 * len(dataset_X)), \n",
    "                                                       int(.50 * len(dataset_X)), \n",
    "                                                       int(.75 * len(dataset_X))\n",
    "                                                      ])"
   ]
  },
  {
   "cell_type": "code",
   "execution_count": null,
   "metadata": {},
   "outputs": [],
   "source": [
    "train_w1_y, train_w2_y, train_w3_y, test_y = np.split(dataset_y, \n",
    "                                                      [int(.25 * len(dataset_y)), \n",
    "                                                       int(.50 * len(dataset_y)), \n",
    "                                                       int(.75 * len(dataset_y))\n",
    "                                                      ])"
   ]
  },
  {
   "cell_type": "code",
   "execution_count": null,
   "metadata": {},
   "outputs": [],
   "source": [
    "train_w1_1, train_w1_2, train_w1_3 = np.split(train_w1_X,  \n",
    "                                                [int(.33 * len(train_w1_X)), \n",
    "                                                int(.66 * len(train_w1_X))\n",
    "                                                ])\n",
    "\n",
    "train_w2_1, train_w2_2, train_w2_3 = np.split(train_w2_X,  \n",
    "                                                [int(.33 * len(train_w2_X)), \n",
    "                                                int(.66 * len(train_w2_X))\n",
    "                                                ])\n",
    "\n",
    "train_w3_1, train_w3_2, train_w3_3 = np.split(train_w3_X,  \n",
    "                                                [int(.33 * len(train_w3_X)), \n",
    "                                                int(.66 * len(train_w3_X))\n",
    "                                                ])\n",
    "\n",
    "\n",
    "\n",
    "\n",
    "train_w1_y_1, train_w1_y_2, train_w1_y_3 = np.split(train_w1_y, \n",
    "                                                      [int(.33 * len(train_w1_y)), \n",
    "                                                       int(.66 * len(train_w1_y))\n",
    "                                                      ])\n",
    "\n",
    "train_w2_y_1, train_w2_y_2, train_w2_y_3 = np.split(train_w2_y, \n",
    "                                                      [int(.33 * len(train_w2_y)), \n",
    "                                                       int(.66 * len(train_w2_y))\n",
    "                                                      ])\n",
    "\n",
    "train_w3_y_1, train_w3_y_2, train_w3_y_3 = np.split(train_w3_y, \n",
    "                                                      [int(.33 * len(train_w3_y)), \n",
    "                                                       int(.66 * len(train_w3_y))\n",
    "                                                      ])"
   ]
  },
  {
   "cell_type": "code",
   "execution_count": null,
   "metadata": {},
   "outputs": [],
   "source": [
    "w1.train(X = train_w1_X, y = train_w1_y)\n",
    "w2.train(X = train_w2_X, y = train_w2_y)\n",
    "w3.train(X = train_w3_X, y = train_w3_y)\n"
   ]
  },
  {
   "cell_type": "code",
   "execution_count": null,
   "metadata": {},
   "outputs": [],
   "source": [
    "w3.model.coef_"
   ]
  },
  {
   "cell_type": "code",
   "execution_count": null,
   "metadata": {},
   "outputs": [],
   "source": [
    "server.aggregation()"
   ]
  },
  {
   "cell_type": "code",
   "execution_count": null,
   "metadata": {},
   "outputs": [],
   "source": [
    "print('Server Coef: ', server.coef)\n",
    "print('Server intercept: ', server.intercept)"
   ]
  },
  {
   "cell_type": "code",
   "execution_count": null,
   "metadata": {},
   "outputs": [],
   "source": [
    "server.return_to_workers()"
   ]
  },
  {
   "cell_type": "code",
   "execution_count": null,
   "metadata": {},
   "outputs": [],
   "source": [
    "w3.coef"
   ]
  },
  {
   "cell_type": "code",
   "execution_count": null,
   "metadata": {},
   "outputs": [],
   "source": [
    "pred_w1 = w1.evaluate(test_X)\n",
    "print('Mean squared error worker 1: %.2f' \n",
    "         % mean_squared_error(test_y, pred_w1))\n",
    "print('Coefficient of determinaton of worker 1: %.2f'\n",
    "         % r2_score(test_y, pred_w1))\n",
    "\n",
    "print('----------')\n",
    "\n",
    "pred_w2 = w2.evaluate(test_X)\n",
    "print('Mean squared error worker 2: %.2f' \n",
    "         % mean_squared_error(test_y, pred_w2))\n",
    "print('Coefficient of determinaton of worker 2: %.2f'\n",
    "         % r2_score(test_y, pred_w2))\n",
    "\n",
    "print('----------')\n",
    "\n",
    "pred_w3 = w3.evaluate(test_X)\n",
    "print('Mean squared error worker 3: %.2f' \n",
    "         % mean_squared_error(test_y, pred_w3))\n",
    "print('Coefficient of determinaton of worker 3: %.2f'\n",
    "         % r2_score(test_y, pred_w3))"
   ]
  },
  {
   "cell_type": "code",
   "execution_count": null,
   "metadata": {},
   "outputs": [],
   "source": [
    "server.return_to_workers()"
   ]
  },
  {
   "cell_type": "code",
   "execution_count": null,
   "metadata": {},
   "outputs": [],
   "source": [
    "pred_server = server.evaluate(test_X)\n",
    "print('Mean squared error: %.2f' \n",
    "         % mean_squared_error(test_y, pred_server))\n",
    "print('Coefficient of determinaton: %.2f'\n",
    "         % r2_score(test_y, pred_server))"
   ]
  },
  {
   "cell_type": "markdown",
   "metadata": {},
   "source": [
    "# Multi Rounds"
   ]
  },
  {
   "cell_type": "code",
   "execution_count": 98,
   "metadata": {},
   "outputs": [],
   "source": [
    "num_workers = 4\n",
    "num_rounds = 20\n",
    "\n",
    "m = 2.3\n",
    "c = 1.6"
   ]
  },
  {
   "cell_type": "code",
   "execution_count": 99,
   "metadata": {},
   "outputs": [],
   "source": [
    "dataset_X = np.linspace(0, 10, 1000)\n",
    "np.random.shuffle(dataset_X)\n",
    "\n",
    "dataset_y =  dataset_X * m + c +  np.random.randn(dataset_X.size) * math.sqrt(20)\n",
    "\n",
    "dataset_X = dataset_X.reshape(-1,1)"
   ]
  },
  {
   "cell_type": "code",
   "execution_count": 100,
   "metadata": {},
   "outputs": [],
   "source": [
    "worker_list = []\n",
    "for i in range(0, num_workers):\n",
    "    worker_list.append(Worker(coef = np.zeros(shape=dataset_X[0].size), intercept = np.zeros(shape=1), model=linear_model.LinearRegression()))"
   ]
  },
  {
   "cell_type": "code",
   "execution_count": 101,
   "metadata": {},
   "outputs": [],
   "source": [
    "train_percentage = 0.8\n",
    "\n",
    "\n",
    "train_X, test_X = np.split(dataset_X, \n",
    "            [int(train_percentage * len(dataset_X))\n",
    "            ])\n",
    "\n",
    "train_y, test_y = np.split(dataset_y, \n",
    "            [int(train_percentage * len(dataset_y))\n",
    "            ])"
   ]
  },
  {
   "cell_type": "code",
   "execution_count": 102,
   "metadata": {},
   "outputs": [],
   "source": [
    "server = Server(coef = np.zeros(shape=dataset_X[0].size), intercept = np.zeros(shape=1), workers = worker_list, num_features = dataset_X[0].size)"
   ]
  },
  {
   "cell_type": "code",
   "execution_count": 103,
   "metadata": {},
   "outputs": [],
   "source": [
    "train_list_X = splitDataset(train_X, num_workers, num_rounds)\n",
    "train_list_y = splitDataset(train_y, num_workers, num_rounds)"
   ]
  },
  {
   "cell_type": "code",
   "execution_count": 104,
   "metadata": {
    "scrolled": true
   },
   "outputs": [
    {
     "name": "stdout",
     "output_type": "stream",
     "text": [
      "Intercept: -0.2601626113002915\n",
      "Intercept: 0.8464996837404808\n",
      "Intercept: 0.04667807868410456\n",
      "Intercept: -5.767475837883303\n",
      "Sum: [-1.28361517]\n",
      "------ROUND 1------\n",
      "Mean squared error: 21.284\n",
      "Coefficient of determinaton: 0.680 \n",
      "\n",
      "Intercept: -1.8566439453656134\n",
      "Intercept: -1.2026875124100584\n",
      "Intercept: -2.6816713372988\n",
      "Intercept: 5.767573459724619\n",
      "Sum: [0.00664267]\n",
      "------ROUND 2------\n",
      "Mean squared error: 20.449\n",
      "Coefficient of determinaton: 0.692 \n",
      "\n",
      "Intercept: 7.629277205566373\n",
      "Intercept: 1.9113416542770736\n",
      "Intercept: -1.5164613288312871\n",
      "Intercept: 0.1288237203955127\n",
      "Sum: [2.03824531]\n",
      "------ROUND 3------\n",
      "Mean squared error: 20.014\n",
      "Coefficient of determinaton: 0.699 \n",
      "\n",
      "Intercept: 5.332245124587202\n",
      "Intercept: 1.8576894483766342\n",
      "Intercept: 2.8778680936305783\n",
      "Intercept: 2.0808598467686696\n",
      "Sum: [3.03716563]\n",
      "------ROUND 4------\n",
      "Mean squared error: 19.491\n",
      "Coefficient of determinaton: 0.707 \n",
      "\n",
      "Intercept: 4.963772035320854\n",
      "Intercept: -0.20656488902465497\n",
      "Intercept: 0.08188986473268933\n",
      "Intercept: 4.279154580988115\n",
      "Sum: [2.2795629]\n",
      "------ROUND 5------\n",
      "Mean squared error: 19.321\n",
      "Coefficient of determinaton: 0.709 \n",
      "\n",
      "Intercept: 2.6629418776380653\n",
      "Intercept: 5.613422479882834\n",
      "Intercept: 7.688896002374802\n",
      "Intercept: -2.637135003212551\n",
      "Sum: [3.33203134]\n",
      "------ROUND 6------\n",
      "Mean squared error: 19.215\n",
      "Coefficient of determinaton: 0.711 \n",
      "\n",
      "Intercept: 4.686683600367857\n",
      "Intercept: -0.6279800447453923\n",
      "Intercept: 1.6822253666081775\n",
      "Intercept: -1.5841711403384426\n",
      "Sum: [1.03918945]\n",
      "------ROUND 7------\n",
      "Mean squared error: 19.186\n",
      "Coefficient of determinaton: 0.711 \n",
      "\n",
      "Intercept: 4.676309309700494\n",
      "Intercept: -1.345223284212798\n",
      "Intercept: -0.5225605234692239\n",
      "Intercept: 4.205073737626943\n",
      "Sum: [1.75339981]\n",
      "------ROUND 8------\n",
      "Mean squared error: 19.181\n",
      "Coefficient of determinaton: 0.711 \n",
      "\n",
      "Intercept: -5.835234621382083\n",
      "Intercept: 4.400089087882414\n",
      "Intercept: 2.3274570185242567\n",
      "Intercept: 4.394735948229071\n",
      "Sum: [1.32176186]\n",
      "------ROUND 9------\n",
      "Mean squared error: 19.217\n",
      "Coefficient of determinaton: 0.711 \n",
      "\n",
      "Intercept: 4.499721364839479\n",
      "Intercept: 1.6047234787999454\n",
      "Intercept: 8.87330307892067\n",
      "Intercept: 4.565627038863857\n",
      "Sum: [4.88584374]\n",
      "------ROUND 10------\n",
      "Mean squared error: 19.200\n",
      "Coefficient of determinaton: 0.711 \n",
      "\n",
      "Intercept: 0.34365401994704925\n",
      "Intercept: 5.712320244842319\n",
      "Intercept: -4.356617534765197\n",
      "Intercept: -3.0770026663325254\n",
      "Sum: [-0.34441148]\n",
      "------ROUND 11------\n",
      "Mean squared error: 19.149\n",
      "Coefficient of determinaton: 0.712 \n",
      "\n",
      "Intercept: -3.0335126543220845\n",
      "Intercept: -0.6279366775648896\n",
      "Intercept: -0.1383790476424025\n",
      "Intercept: -8.521325145776313\n",
      "Sum: [-3.08028838]\n",
      "------ROUND 12------\n",
      "Mean squared error: 19.207\n",
      "Coefficient of determinaton: 0.711 \n",
      "\n",
      "Intercept: 1.8774271695823792\n",
      "Intercept: 0.5840960889270868\n",
      "Intercept: 5.413960242139646\n",
      "Intercept: 1.8356791561814756\n",
      "Sum: [2.42779066]\n",
      "------ROUND 13------\n",
      "Mean squared error: 19.158\n",
      "Coefficient of determinaton: 0.712 \n",
      "\n",
      "Intercept: 0.7206948914726716\n",
      "Intercept: -2.9066881303367396\n",
      "Intercept: -1.0790340476977107\n",
      "Intercept: 2.7658035021797964\n",
      "Sum: [-0.12480595]\n",
      "------ROUND 14------\n",
      "Mean squared error: 19.206\n",
      "Coefficient of determinaton: 0.711 \n",
      "\n",
      "Intercept: 6.412027753601439\n",
      "Intercept: -2.2008095308658433\n",
      "Intercept: 2.602969512599783\n",
      "Intercept: 2.299961969551905\n",
      "Sum: [2.27853743]\n",
      "------ROUND 15------\n",
      "Mean squared error: 19.253\n",
      "Coefficient of determinaton: 0.710 \n",
      "\n",
      "Intercept: -0.6191923357252413\n",
      "Intercept: 0.5510840883963031\n",
      "Intercept: 2.6213857833908314\n",
      "Intercept: -1.6496687426544696\n",
      "Sum: [0.2259022]\n",
      "------ROUND 16------\n",
      "Mean squared error: 19.356\n",
      "Coefficient of determinaton: 0.709 \n",
      "\n",
      "Intercept: 0.7188630577157848\n",
      "Intercept: 1.5002049743884927\n",
      "Intercept: 6.277389935478915\n",
      "Intercept: 5.256774386975174\n",
      "Sum: [3.43830809]\n",
      "------ROUND 17------\n",
      "Mean squared error: 19.396\n",
      "Coefficient of determinaton: 0.708 \n",
      "\n",
      "Intercept: -1.3626274317416573\n",
      "Intercept: 5.186455861635896\n",
      "Intercept: 2.2223827802471474\n",
      "Intercept: 3.9051456595300813\n",
      "Sum: [2.48783922]\n",
      "------ROUND 18------\n",
      "Mean squared error: 19.311\n",
      "Coefficient of determinaton: 0.709 \n",
      "\n",
      "Intercept: -0.22415251713607542\n",
      "Intercept: 2.806289128466009\n",
      "Intercept: -0.8308943932652433\n",
      "Intercept: -0.8672358718420181\n",
      "Sum: [0.22100159]\n",
      "------ROUND 19------\n",
      "Mean squared error: 19.372\n",
      "Coefficient of determinaton: 0.708 \n",
      "\n",
      "Intercept: 4.94103686218709\n",
      "Intercept: -2.607002064208082\n",
      "Intercept: -5.946936543575884\n",
      "Intercept: 3.736772432918018\n",
      "Sum: [0.03096767]\n",
      "------ROUND 20------\n",
      "Mean squared error: 19.342\n",
      "Coefficient of determinaton: 0.709 \n",
      "\n"
     ]
    }
   ],
   "source": [
    "error = []\n",
    "score = []\n",
    "\n",
    "for i in range(0, num_rounds):\n",
    "    \n",
    "    for j in range(0, num_workers):\n",
    "        worker_list[j].train(X = train_list_X[i*num_workers+j] , y = train_list_y[i*num_workers+j])\n",
    "\n",
    "    server.aggregation() \n",
    "    server.return_to_workers()\n",
    "    \n",
    "    pred_server = server.evaluate(test_X)\n",
    "    print('------ROUND {}------'.format(i+1))\n",
    "    print('Mean squared error: %.3f' \n",
    "          % mean_squared_error(test_y, pred_server))\n",
    "    print('Coefficient of determinaton: %.3f \\n'\n",
    "          % r2_score(test_y, pred_server))\n",
    "    error.append(mean_squared_error(test_y, pred_server))\n",
    "    score.append(r2_score(test_y, pred_server))\n",
    "    "
   ]
  },
  {
   "cell_type": "code",
   "execution_count": 105,
   "metadata": {},
   "outputs": [
    {
     "data": {
      "image/png": "[encoded data removed]",
      "text/plain": [
       "<Figure size 432x288 with 1 Axes>"
      ]
     },
     "metadata": {},
     "output_type": "display_data"
    }
   ],
   "source": [
    "plt.scatter(test_X, test_y,  color='black')\n",
    "plt.plot(test_X, pred_server, color='blue', linewidth=3)\n",
    "\n",
    "plt.xticks(())\n",
    "plt.yticks(())\n",
    "\n",
    "plt.show()"
   ]
  },
  {
   "cell_type": "code",
   "execution_count": 112,
   "metadata": {},
   "outputs": [
    {
     "data": {
      "text/plain": [
       "[<matplotlib.lines.Line2D at 0x7f6e39b61240>]"
      ]
     },
     "execution_count": 112,
     "metadata": {},
     "output_type": "execute_result"
    },
    {
     "data": {
      "text/plain": [
       "<Figure size 720x360 with 0 Axes>"
      ]
     },
     "metadata": {},
     "output_type": "display_data"
    },
    {
     "data": {
      "image/png": "[encoded data removed]",
      "text/plain": [
       "<Figure size 432x288 with 1 Axes>"
      ]
     },
     "metadata": {
      "needs_background": "light"
     },
     "output_type": "display_data"
    }
   ],
   "source": [
    "from matplotlib.pyplot import figure\n",
    "from matplotlib.ticker import MaxNLocator\n",
    "\n",
    "figure(figsize=(10,5))\n",
    "\n",
    "x = np.arange(num_rounds)\n",
    "\n",
    "ax = plt.figure().gca()\n",
    "\n",
    "ax.xaxis.set_major_locator(MaxNLocator(integer=True))\n",
    "\n",
    "plt.plot(x, error, color='red', linewidth=3)"
   ]
  },
  {
   "cell_type": "code",
   "execution_count": 114,
   "metadata": {
    "scrolled": true
   },
   "outputs": [
    {
     "data": {
      "image/png": "[encoded data removed]",
      "text/plain": [
       "<Figure size 720x360 with 1 Axes>"
      ]
     },
     "metadata": {
      "needs_background": "light"
     },
     "output_type": "display_data"
    }
   ],
   "source": [
    "figure(figsize=(10,5))\n",
    "\n",
    "x = np.arange(num_rounds)\n",
    "\n",
    "plt.plot(x, score, color='green', linewidth=3)\n",
    "\n",
    "ax = plt.gca()\n",
    "ax.get_yaxis().get_major_formatter().set_scientific(False)\n",
    "\n",
    "ax.xaxis.set_major_locator(MaxNLocator(integer=True))\n",
    "\n",
    "plt.draw()"
   ]
  }
 ],
 "metadata": {
  "kernelspec": {
   "display_name": "Python (tensorflow_cpu)",
   "language": "python",
   "name": "tensorflow_cpu"
  },
  "language_info": {
   "codemirror_mode": {
    "name": "ipython",
    "version": 3
   },
   "file_extension": ".py",
   "mimetype": "text/x-python",
   "name": "python",
   "nbconvert_exporter": "python",
   "pygments_lexer": "ipython3",
   "version": "3.6.9"
  }
 },
 "nbformat": 4,
 "nbformat_minor": 2
}
