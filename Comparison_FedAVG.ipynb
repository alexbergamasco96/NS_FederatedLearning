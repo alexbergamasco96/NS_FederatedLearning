{
 "cells": [
  {
   "cell_type": "markdown",
   "metadata": {
    "id": "AFy3hJFsXOX5"
   },
   "source": [
    "# **Non-Stationary Federated Learning**\n",
    "\n",
    "\n",
    "\n",
    "*   Deep Learning Framework: **PyTorch**\n",
    "*   Dataset: **Synthetic**\n",
    "*   Workers: **4**\n",
    "*   Data Distribution: **IID on workers**\n",
    "\n",
    "\n",
    "\n"
   ]
  },
  {
   "cell_type": "markdown",
   "metadata": {
    "id": "z0sJeySKYBlR"
   },
   "source": [
    "## Importing libraries and setting parameters for training\n"
   ]
  },
  {
   "cell_type": "code",
   "execution_count": 1,
   "metadata": {
    "id": "KfKWG6_tehlh"
   },
   "outputs": [],
   "source": [
    "import torch\n",
    "import torch.nn as nn\n",
    "import torch.nn.functional as F\n",
    "\n",
    "\n",
    "import os\n",
    "import numpy as np\n",
    "import math\n",
    "\n",
    "from Stationary.core import *\n",
    "from Stationary.utils import *\n",
    "\n",
    "from sklearn import linear_model, datasets\n",
    "from sklearn.metrics import mean_squared_error, r2_score\n",
    "\n",
    "import matplotlib.pyplot as plt"
   ]
  },
  {
   "cell_type": "code",
   "execution_count": 2,
   "metadata": {
    "id": "nogg8QocIWSV"
   },
   "outputs": [],
   "source": [
    "num_workers = 4\n",
    "num_rounds = 10"
   ]
  },
  {
   "cell_type": "markdown",
   "metadata": {
    "id": "RDBYhw7YYe8L"
   },
   "source": [
    "## Synthetic Dataset\n",
    "\n",
    "We create a synthetic dataset, reproducing a linear correlation between inputs and outputs, with the addition of a noise.\n",
    "\n",
    "Train set is divided into multiple slots, in order to reproduce the \"online\" approach: For each round, each worker has a different set for training phase.\n"
   ]
  },
  {
   "cell_type": "code",
   "execution_count": 3,
   "metadata": {
    "id": "V3RdoXlWdTBW"
   },
   "outputs": [],
   "source": [
    "# Linear Regression Coefficients\n",
    "m = 1.4\n",
    "c = 10\n",
    "\n",
    "dataset_X = np.linspace(0, 10, 1000)\n",
    "np.random.shuffle(dataset_X)\n",
    "\n",
    "dataset_y =  dataset_X * m + c +  np.random.randn(dataset_X.size) * math.sqrt(3)\n",
    "\n",
    "dataset_X = dataset_X.reshape(-1,1)\n",
    "dataset_y = dataset_y.reshape(-1,1)"
   ]
  },
  {
   "cell_type": "code",
   "execution_count": 4,
   "metadata": {},
   "outputs": [],
   "source": [
    "train_percentage = 0.9\n",
    "\n",
    "\n",
    "train_X, test_X = np.split(dataset_X, \n",
    "            [int(train_percentage * len(dataset_X))\n",
    "            ])\n",
    "\n",
    "train_y, test_y = np.split(dataset_y, \n",
    "            [int(train_percentage * len(dataset_y))\n",
    "            ])"
   ]
  },
  {
   "cell_type": "code",
   "execution_count": 5,
   "metadata": {},
   "outputs": [],
   "source": [
    "train_list_X = splitDataset(train_X, num_workers, num_rounds)\n",
    "train_list_y = splitDataset(train_y, num_workers, num_rounds)"
   ]
  },
  {
   "cell_type": "code",
   "execution_count": 6,
   "metadata": {
    "id": "_473clIBfBZr"
   },
   "outputs": [],
   "source": [
    "worker_list = []\n",
    "for i in range(0, num_workers):\n",
    "    worker_list.append(Worker(coef = np.zeros(shape=dataset_X[0].size), intercept = np.zeros(shape=1), model=linear_model.LinearRegression()))"
   ]
  },
  {
   "cell_type": "code",
   "execution_count": 7,
   "metadata": {
    "id": "I7Hl2nKMf1pE"
   },
   "outputs": [],
   "source": [
    "server = Server(coef = np.zeros(shape=dataset_X[0].size), intercept = np.zeros(shape=1), workers = worker_list, num_features = dataset_X[0].size)"
   ]
  },
  {
   "cell_type": "code",
   "execution_count": 8,
   "metadata": {
    "colab": {
     "base_uri": "https://localhost:8080/",
     "height": 85
    },
    "id": "d7SHGYjggCNy",
    "outputId": "9b5edf52-f29d-46fe-f879-d53d2fe67d73",
    "scrolled": true
   },
   "outputs": [
    {
     "name": "stdout",
     "output_type": "stream",
     "text": [
      "------ROUND 1------\n",
      "Mean squared error: 3.216\n",
      "Coefficient of determinaton: 0.826 \n",
      "\n",
      "------ROUND 2------\n",
      "Mean squared error: 3.240\n",
      "Coefficient of determinaton: 0.825 \n",
      "\n",
      "------ROUND 3------\n",
      "Mean squared error: 3.284\n",
      "Coefficient of determinaton: 0.822 \n",
      "\n",
      "------ROUND 4------\n",
      "Mean squared error: 3.259\n",
      "Coefficient of determinaton: 0.824 \n",
      "\n",
      "------ROUND 5------\n",
      "Mean squared error: 3.234\n",
      "Coefficient of determinaton: 0.825 \n",
      "\n",
      "------ROUND 6------\n",
      "Mean squared error: 3.267\n",
      "Coefficient of determinaton: 0.823 \n",
      "\n",
      "------ROUND 7------\n",
      "Mean squared error: 3.245\n",
      "Coefficient of determinaton: 0.824 \n",
      "\n",
      "------ROUND 8------\n",
      "Mean squared error: 3.237\n",
      "Coefficient of determinaton: 0.825 \n",
      "\n",
      "------ROUND 9------\n",
      "Mean squared error: 3.246\n",
      "Coefficient of determinaton: 0.824 \n",
      "\n",
      "------ROUND 10------\n",
      "Mean squared error: 3.250\n",
      "Coefficient of determinaton: 0.824 \n",
      "\n"
     ]
    }
   ],
   "source": [
    "error = []\n",
    "score = []\n",
    "\n",
    "for i in range(0, num_rounds):\n",
    "    \n",
    "    for j in range(0, num_workers):\n",
    "        worker_list[j].train(X = train_list_X[i*num_workers+j] , y = train_list_y[i*num_workers+j])\n",
    "\n",
    "    server.aggregation() \n",
    "    server.return_to_workers()\n",
    "    \n",
    "    pred_server = server.evaluate(test_X)\n",
    "    print('------ROUND {}------'.format(i+1))\n",
    "    print('Mean squared error: %.3f' \n",
    "          % mean_squared_error(test_y, pred_server))\n",
    "    print('Coefficient of determinaton: %.3f \\n'\n",
    "          % r2_score(test_y, pred_server))\n",
    "    error.append(mean_squared_error(test_y, pred_server))\n",
    "    score.append(r2_score(test_y, pred_server))"
   ]
  },
  {
   "cell_type": "code",
   "execution_count": 9,
   "metadata": {},
   "outputs": [
    {
     "data": {
      "image/png": "[encoded data removed]",
      "text/plain": [
       "<Figure size 432x288 with 1 Axes>"
      ]
     },
     "metadata": {
      "needs_background": "light"
     },
     "output_type": "display_data"
    }
   ],
   "source": [
    "plt.clf()\n",
    "plt.plot(test_X, test_y, 'go', label='True data', alpha=0.5)\n",
    "plt.plot(test_X, pred_server, '--', label='Predictions', alpha=0.8)\n",
    "plt.legend(loc='best')\n",
    "plt.show()"
   ]
  },
  {
   "cell_type": "markdown",
   "metadata": {},
   "source": [
    "# Federated Averaging\n",
    "\n",
    "Implementation of FedAVG in PyTorch. \n",
    "\n",
    "First of all, the dataset is converted in tensors.\n",
    "Then, a model, a loss function and an optimizer are instantiated for each worker.\n",
    "Model parameters are averaged at each round."
   ]
  },
  {
   "cell_type": "code",
   "execution_count": 10,
   "metadata": {
    "id": "ZVqgQFEnf4CG"
   },
   "outputs": [],
   "source": [
    "from torch.autograd import Variable\n",
    "\n",
    "for i in range(0, len(train_list_X)):\n",
    "    train_list_X[i] = torch.from_numpy(train_list_X[i])\n",
    "\n",
    "for i in range(0, len(train_list_y)):\n",
    "    train_list_y[i] = torch.from_numpy(train_list_y[i])"
   ]
  },
  {
   "cell_type": "markdown",
   "metadata": {},
   "source": [
    "## Model\n"
   ]
  },
  {
   "cell_type": "code",
   "execution_count": 11,
   "metadata": {
    "id": "MGKvcoywMQkc"
   },
   "outputs": [],
   "source": [
    "class linearRegression(torch.nn.Module):\n",
    "    \n",
    "    def __init__(self, inputSize, outputSize):\n",
    "        \n",
    "        super(linearRegression, self).__init__()\n",
    "        self.linear = torch.nn.Linear(inputSize, outputSize, bias=True)\n",
    "\n",
    "        \n",
    "    def forward(self, x):\n",
    "        \n",
    "        out = self.linear(x)\n",
    "        return out\n"
   ]
  },
  {
   "cell_type": "code",
   "execution_count": 12,
   "metadata": {
    "id": "-hLeUF7VMZBY"
   },
   "outputs": [],
   "source": [
    "w = []\n",
    "\n",
    "for i in range(0, num_workers):\n",
    "    \n",
    "    w.append(linearRegression(dataset_X[0].size, dataset_y[0].size))\n",
    "    w[i] = w[i].float()"
   ]
  },
  {
   "cell_type": "code",
   "execution_count": 13,
   "metadata": {
    "id": "1pssyuTfNa5K"
   },
   "outputs": [],
   "source": [
    "learning_rate = 1e-4\n",
    "\n",
    "criterion = []\n",
    "optimizers = []\n",
    "\n",
    "for i in w:\n",
    "    \n",
    "    criterion.append(torch.nn.MSELoss()) \n",
    "    optimizers.append(torch.optim.SGD(i.parameters(), lr=learning_rate))"
   ]
  },
  {
   "cell_type": "code",
   "execution_count": 14,
   "metadata": {},
   "outputs": [],
   "source": [
    "params = []\n",
    "\n",
    "\n",
    "for i in w:\n",
    "    params.append(list(i.parameters()))"
   ]
  },
  {
   "cell_type": "code",
   "execution_count": 15,
   "metadata": {
    "id": "3cH1HLJUBDyi",
    "scrolled": false
   },
   "outputs": [
    {
     "name": "stdout",
     "output_type": "stream",
     "text": [
      "------ROUND tensor([2.4454], grad_fn=<AddBackward0>)------\n",
      "Mean squared error: 19.430\n",
      "Coefficient of determinaton: -0.051 \n",
      "\n",
      "------ROUND tensor([5.6200], grad_fn=<AddBackward0>)------\n",
      "Mean squared error: 9.787\n",
      "Coefficient of determinaton: 0.470 \n",
      "\n",
      "------ROUND tensor([7.7104], grad_fn=<AddBackward0>)------\n",
      "Mean squared error: 5.681\n",
      "Coefficient of determinaton: 0.693 \n",
      "\n",
      "------ROUND tensor([8.7895], grad_fn=<AddBackward0>)------\n",
      "Mean squared error: 4.573\n",
      "Coefficient of determinaton: 0.753 \n",
      "\n",
      "------ROUND tensor([9.4411], grad_fn=<AddBackward0>)------\n",
      "Mean squared error: 3.842\n",
      "Coefficient of determinaton: 0.792 \n",
      "\n",
      "------ROUND tensor([9.9938], grad_fn=<AddBackward0>)------\n",
      "Mean squared error: 4.114\n",
      "Coefficient of determinaton: 0.777 \n",
      "\n",
      "------ROUND tensor([10.5379], grad_fn=<AddBackward0>)------\n",
      "Mean squared error: 3.290\n",
      "Coefficient of determinaton: 0.822 \n",
      "\n",
      "------ROUND tensor([10.6556], grad_fn=<AddBackward0>)------\n",
      "Mean squared error: 3.247\n",
      "Coefficient of determinaton: 0.824 \n",
      "\n",
      "------ROUND tensor([10.5660], grad_fn=<AddBackward0>)------\n",
      "Mean squared error: 3.318\n",
      "Coefficient of determinaton: 0.820 \n",
      "\n",
      "------ROUND tensor([10.7476], grad_fn=<AddBackward0>)------\n",
      "Mean squared error: 3.763\n",
      "Coefficient of determinaton: 0.796 \n",
      "\n"
     ]
    }
   ],
   "source": [
    "local_epochs = 100\n",
    "\n",
    "error = []\n",
    "score = []\n",
    "\n",
    "for model in w:\n",
    "    \n",
    "    model.train()\n",
    "\n",
    "for i in range(num_rounds):\n",
    "\n",
    "    for j in range(0, num_workers):\n",
    "\n",
    "        for epoch in range(local_epochs):\n",
    "            \n",
    "            optimizers[j].zero_grad()\n",
    "            loss = 0\n",
    "            \n",
    "            for x in range(len(train_list_X[i*num_workers+j])):\n",
    "                inputs = (train_list_X[i*num_workers+j][x]).float()\n",
    "                inputs = inputs.unsqueeze(0)\n",
    "                labels = (train_list_y[i*num_workers+j][x]).float()\n",
    "                labels = labels.unsqueeze(0)\n",
    "                y_pred = w[j](inputs)\n",
    "                loss += criterion[j](y_pred, labels)\n",
    "            \n",
    "            loss.backward()\n",
    "            optimizers[j].step()\n",
    "     \n",
    "    \n",
    "    new_params = list()\n",
    "\n",
    "    for param_i in range(len(params[0])):\n",
    "\n",
    "        spdz_params = list()\n",
    "\n",
    "        for remote_index in range(len(w)):\n",
    "            spdz_params.append(params[remote_index][param_i])\n",
    "        \n",
    "        spdz = torch.tensor([0.0]).float()\n",
    "\n",
    "        for i in spdz_params:\n",
    "            spdz = spdz + i\n",
    "        \n",
    "        new_param = (spdz) / len(w)\n",
    "        new_params.append(new_param)\n",
    "    \n",
    "    with torch.no_grad():\n",
    "        for model in params:\n",
    "            for param in model:\n",
    "                param *= 0\n",
    "        \n",
    "        for remote_index in range(len(w)):\n",
    "            for param_index in range(len(params[remote_index])):\n",
    "                params[remote_index][param_index].set_(new_params[param_index])\n",
    "    \n",
    "    \n",
    "    predicted = w[0](Variable(torch.from_numpy(test_X).float())).data.numpy()\n",
    "    \n",
    "    print('------ROUND {}------'.format(i+1))\n",
    "    print('Mean squared error: %.3f' \n",
    "          % mean_squared_error(test_y, predicted))\n",
    "    print('Coefficient of determinaton: %.3f \\n'\n",
    "          % r2_score(test_y, predicted))\n",
    "    error.append(mean_squared_error(test_y, predicted))\n",
    "    score.append(r2_score(test_y, predicted))\n",
    "    "
   ]
  },
  {
   "cell_type": "code",
   "execution_count": 17,
   "metadata": {
    "colab": {
     "base_uri": "https://localhost:8080/",
     "height": 265
    },
    "id": "8NjU8W7kRq9x",
    "outputId": "2e80487e-4d7e-40cb-d02f-c69ee19c6473",
    "scrolled": true
   },
   "outputs": [
    {
     "data": {
      "image/png": "[encoded data removed]",
      "text/plain": [
       "<Figure size 432x288 with 1 Axes>"
      ]
     },
     "metadata": {
      "needs_background": "light"
     },
     "output_type": "display_data"
    }
   ],
   "source": [
    "with torch.no_grad(): \n",
    "    predicted = w[0](Variable(torch.from_numpy(test_X).float())).data.numpy()\n",
    "\n",
    "plt.clf()\n",
    "plt.plot(test_X, test_y, 'go', label='True data', alpha=0.5)\n",
    "plt.plot(test_X, predicted, '--', label='Predictions', alpha=0.5)\n",
    "plt.legend(loc='best')\n",
    "plt.show()"
   ]
  },
  {
   "cell_type": "code",
   "execution_count": 18,
   "metadata": {},
   "outputs": [
    {
     "name": "stdout",
     "output_type": "stream",
     "text": [
      "3.249629860175362\n",
      "0.824183970253846\n"
     ]
    }
   ],
   "source": [
    "print(mean_squared_error(test_y, pred_server))\n",
    "print(r2_score(test_y, pred_server))"
   ]
  }
 ],
 "metadata": {
  "accelerator": "GPU",
  "colab": {
   "collapsed_sections": [],
   "name": "NS-Env.ipynb",
   "provenance": []
  },
  "kernelspec": {
   "display_name": "Python [conda env:tensorflow_cpu]",
   "language": "python",
   "name": "conda-env-tensorflow_cpu-py"
  },
  "language_info": {
   "codemirror_mode": {
    "name": "ipython",
    "version": 3
   },
   "file_extension": ".py",
   "mimetype": "text/x-python",
   "name": "python",
   "nbconvert_exporter": "python",
   "pygments_lexer": "ipython3",
   "version": "3.6.9"
  }
 },
 "nbformat": 4,
 "nbformat_minor": 1
}
