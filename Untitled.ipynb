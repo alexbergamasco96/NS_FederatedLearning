{
 "cells": [
  {
   "cell_type": "code",
   "execution_count": 2,
   "metadata": {},
   "outputs": [],
   "source": [
    "import pandas as pd"
   ]
  },
  {
   "cell_type": "code",
   "execution_count": 15,
   "metadata": {
    "scrolled": false
   },
   "outputs": [
    {
     "data": {
      "text/html": [
       "<div>\n",
       "<style scoped>\n",
       "    .dataframe tbody tr th:only-of-type {\n",
       "        vertical-align: middle;\n",
       "    }\n",
       "\n",
       "    .dataframe tbody tr th {\n",
       "        vertical-align: top;\n",
       "    }\n",
       "\n",
       "    .dataframe thead th {\n",
       "        text-align: right;\n",
       "    }\n",
       "</style>\n",
       "<table border=\"1\" class=\"dataframe\">\n",
       "  <thead>\n",
       "    <tr style=\"text-align: right;\">\n",
       "      <th></th>\n",
       "      <th>Error_FedREG</th>\n",
       "      <th>Error_FedREG_std</th>\n",
       "      <th>Score_FedREG</th>\n",
       "      <th>Score_FedREG_std</th>\n",
       "      <th>Error_FedAVG</th>\n",
       "      <th>Error_FedAVG_std</th>\n",
       "      <th>Score_FedAVG</th>\n",
       "      <th>Score_FedAVG_std</th>\n",
       "    </tr>\n",
       "  </thead>\n",
       "  <tbody>\n",
       "    <tr>\n",
       "      <th>39</th>\n",
       "      <td>2.708606</td>\n",
       "      <td>0.608049</td>\n",
       "      <td>0.947705</td>\n",
       "      <td>0.011093</td>\n",
       "      <td>2.241849</td>\n",
       "      <td>0.053678</td>\n",
       "      <td>0.956612</td>\n",
       "      <td>0.001268</td>\n",
       "    </tr>\n",
       "  </tbody>\n",
       "</table>\n",
       "</div>"
      ],
      "text/plain": [
       "    Error_FedREG  Error_FedREG_std  Score_FedREG  Score_FedREG_std  \\\n",
       "39      2.708606          0.608049      0.947705          0.011093   \n",
       "\n",
       "    Error_FedAVG  Error_FedAVG_std  Score_FedAVG  Score_FedAVG_std  \n",
       "39      2.241849          0.053678      0.956612          0.001268  "
      ]
     },
     "execution_count": 15,
     "metadata": {},
     "output_type": "execute_result"
    }
   ],
   "source": [
    "test_family = 'NonLinearModel_NonLinearTask_DistanceCoefficient'\n",
    "test_name = 'test5'\n",
    "\n",
    "pd.read_csv(\"Results/Stationary/\"+test_family+\"/data/\"+test_name+\"_.csv\").tail(1)"
   ]
  },
  {
   "cell_type": "code",
   "execution_count": 16,
   "metadata": {},
   "outputs": [
    {
     "data": {
      "text/html": [
       "<div>\n",
       "<style scoped>\n",
       "    .dataframe tbody tr th:only-of-type {\n",
       "        vertical-align: middle;\n",
       "    }\n",
       "\n",
       "    .dataframe tbody tr th {\n",
       "        vertical-align: top;\n",
       "    }\n",
       "\n",
       "    .dataframe thead th {\n",
       "        text-align: right;\n",
       "    }\n",
       "</style>\n",
       "<table border=\"1\" class=\"dataframe\">\n",
       "  <thead>\n",
       "    <tr style=\"text-align: right;\">\n",
       "      <th></th>\n",
       "      <th>Error_FedREG</th>\n",
       "      <th>Error_FedREG_std</th>\n",
       "      <th>Score_FedREG</th>\n",
       "      <th>Score_FedREG_std</th>\n",
       "      <th>Error_FedAVG</th>\n",
       "      <th>Error_FedAVG_std</th>\n",
       "      <th>Score_FedAVG</th>\n",
       "      <th>Score_FedAVG_std</th>\n",
       "    </tr>\n",
       "  </thead>\n",
       "  <tbody>\n",
       "    <tr>\n",
       "      <th>39</th>\n",
       "      <td>0.736689</td>\n",
       "      <td>0.122029</td>\n",
       "      <td>0.985315</td>\n",
       "      <td>0.002289</td>\n",
       "      <td>0.549105</td>\n",
       "      <td>0.014761</td>\n",
       "      <td>0.989038</td>\n",
       "      <td>0.000265</td>\n",
       "    </tr>\n",
       "  </tbody>\n",
       "</table>\n",
       "</div>"
      ],
      "text/plain": [
       "    Error_FedREG  Error_FedREG_std  Score_FedREG  Score_FedREG_std  \\\n",
       "39      0.736689          0.122029      0.985315          0.002289   \n",
       "\n",
       "    Error_FedAVG  Error_FedAVG_std  Score_FedAVG  Score_FedAVG_std  \n",
       "39      0.549105          0.014761      0.989038          0.000265  "
      ]
     },
     "execution_count": 16,
     "metadata": {},
     "output_type": "execute_result"
    }
   ],
   "source": [
    "test_name = 'test6'\n",
    "\n",
    "pd.read_csv(\"Results/Stationary/\"+test_family+\"/data/\"+test_name+\"_.csv\").tail(1)"
   ]
  },
  {
   "cell_type": "code",
   "execution_count": 17,
   "metadata": {},
   "outputs": [
    {
     "data": {
      "text/html": [
       "<div>\n",
       "<style scoped>\n",
       "    .dataframe tbody tr th:only-of-type {\n",
       "        vertical-align: middle;\n",
       "    }\n",
       "\n",
       "    .dataframe tbody tr th {\n",
       "        vertical-align: top;\n",
       "    }\n",
       "\n",
       "    .dataframe thead th {\n",
       "        text-align: right;\n",
       "    }\n",
       "</style>\n",
       "<table border=\"1\" class=\"dataframe\">\n",
       "  <thead>\n",
       "    <tr style=\"text-align: right;\">\n",
       "      <th></th>\n",
       "      <th>Error_FedREG</th>\n",
       "      <th>Error_FedREG_std</th>\n",
       "      <th>Score_FedREG</th>\n",
       "      <th>Score_FedREG_std</th>\n",
       "      <th>Error_FedAVG</th>\n",
       "      <th>Error_FedAVG_std</th>\n",
       "      <th>Score_FedAVG</th>\n",
       "      <th>Score_FedAVG_std</th>\n",
       "    </tr>\n",
       "  </thead>\n",
       "  <tbody>\n",
       "    <tr>\n",
       "      <th>39</th>\n",
       "      <td>1.274084</td>\n",
       "      <td>0.104573</td>\n",
       "      <td>0.974578</td>\n",
       "      <td>0.001902</td>\n",
       "      <td>3.359146</td>\n",
       "      <td>0.335057</td>\n",
       "      <td>0.933022</td>\n",
       "      <td>0.005832</td>\n",
       "    </tr>\n",
       "  </tbody>\n",
       "</table>\n",
       "</div>"
      ],
      "text/plain": [
       "    Error_FedREG  Error_FedREG_std  Score_FedREG  Score_FedREG_std  \\\n",
       "39      1.274084          0.104573      0.974578          0.001902   \n",
       "\n",
       "    Error_FedAVG  Error_FedAVG_std  Score_FedAVG  Score_FedAVG_std  \n",
       "39      3.359146          0.335057      0.933022          0.005832  "
      ]
     },
     "execution_count": 17,
     "metadata": {},
     "output_type": "execute_result"
    }
   ],
   "source": [
    "test_name = 'test7'\n",
    "\n",
    "pd.read_csv(\"Results/Stationary/\"+test_family+\"/data/\"+test_name+\"_.csv\").tail(1)"
   ]
  },
  {
   "cell_type": "code",
   "execution_count": 18,
   "metadata": {},
   "outputs": [
    {
     "data": {
      "text/html": [
       "<div>\n",
       "<style scoped>\n",
       "    .dataframe tbody tr th:only-of-type {\n",
       "        vertical-align: middle;\n",
       "    }\n",
       "\n",
       "    .dataframe tbody tr th {\n",
       "        vertical-align: top;\n",
       "    }\n",
       "\n",
       "    .dataframe thead th {\n",
       "        text-align: right;\n",
       "    }\n",
       "</style>\n",
       "<table border=\"1\" class=\"dataframe\">\n",
       "  <thead>\n",
       "    <tr style=\"text-align: right;\">\n",
       "      <th></th>\n",
       "      <th>Error_FedREG</th>\n",
       "      <th>Error_FedREG_std</th>\n",
       "      <th>Score_FedREG</th>\n",
       "      <th>Score_FedREG_std</th>\n",
       "      <th>Error_FedAVG</th>\n",
       "      <th>Error_FedAVG_std</th>\n",
       "      <th>Score_FedAVG</th>\n",
       "      <th>Score_FedAVG_std</th>\n",
       "    </tr>\n",
       "  </thead>\n",
       "  <tbody>\n",
       "    <tr>\n",
       "      <th>39</th>\n",
       "      <td>0.7654</td>\n",
       "      <td>0.145704</td>\n",
       "      <td>0.985081</td>\n",
       "      <td>0.002603</td>\n",
       "      <td>0.559697</td>\n",
       "      <td>0.030479</td>\n",
       "      <td>0.98906</td>\n",
       "      <td>0.000654</td>\n",
       "    </tr>\n",
       "  </tbody>\n",
       "</table>\n",
       "</div>"
      ],
      "text/plain": [
       "    Error_FedREG  Error_FedREG_std  Score_FedREG  Score_FedREG_std  \\\n",
       "39        0.7654          0.145704      0.985081          0.002603   \n",
       "\n",
       "    Error_FedAVG  Error_FedAVG_std  Score_FedAVG  Score_FedAVG_std  \n",
       "39      0.559697          0.030479       0.98906          0.000654  "
      ]
     },
     "execution_count": 18,
     "metadata": {},
     "output_type": "execute_result"
    }
   ],
   "source": [
    "test_name = 'test8'\n",
    "\n",
    "pd.read_csv(\"Results/Stationary/\"+test_family+\"/data/\"+test_name+\"_.csv\").tail(1)"
   ]
  },
  {
   "cell_type": "code",
   "execution_count": null,
   "metadata": {},
   "outputs": [],
   "source": []
  }
 ],
 "metadata": {
  "kernelspec": {
   "display_name": "Python (federated)",
   "language": "python",
   "name": "federated"
  },
  "language_info": {
   "codemirror_mode": {
    "name": "ipython",
    "version": 3
   },
   "file_extension": ".py",
   "mimetype": "text/x-python",
   "name": "python",
   "nbconvert_exporter": "python",
   "pygments_lexer": "ipython3",
   "version": "3.8.5"
  }
 },
 "nbformat": 4,
 "nbformat_minor": 2
}
