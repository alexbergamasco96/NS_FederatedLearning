{
 "cells": [
  {
   "cell_type": "code",
   "execution_count": 1,
   "metadata": {},
   "outputs": [],
   "source": [
    "import pandas as pd"
   ]
  },
  {
   "cell_type": "code",
   "execution_count": 14,
   "metadata": {
    "scrolled": false
   },
   "outputs": [
    {
     "data": {
      "text/html": [
       "<div>\n",
       "<style scoped>\n",
       "    .dataframe tbody tr th:only-of-type {\n",
       "        vertical-align: middle;\n",
       "    }\n",
       "\n",
       "    .dataframe tbody tr th {\n",
       "        vertical-align: top;\n",
       "    }\n",
       "\n",
       "    .dataframe thead th {\n",
       "        text-align: right;\n",
       "    }\n",
       "</style>\n",
       "<table border=\"1\" class=\"dataframe\">\n",
       "  <thead>\n",
       "    <tr style=\"text-align: right;\">\n",
       "      <th></th>\n",
       "      <th>Error_FedREG</th>\n",
       "      <th>Error_FedREG_std</th>\n",
       "      <th>Score_FedREG</th>\n",
       "      <th>Score_FedREG_std</th>\n",
       "      <th>Error_FedAVG</th>\n",
       "      <th>Error_FedAVG_std</th>\n",
       "      <th>Score_FedAVG</th>\n",
       "      <th>Score_FedAVG_std</th>\n",
       "    </tr>\n",
       "  </thead>\n",
       "  <tbody>\n",
       "    <tr>\n",
       "      <th>19</th>\n",
       "      <td>3.852895</td>\n",
       "      <td>0.865665</td>\n",
       "      <td>0.925556</td>\n",
       "      <td>0.015813</td>\n",
       "      <td>1.460994</td>\n",
       "      <td>0.850345</td>\n",
       "      <td>0.971789</td>\n",
       "      <td>0.01626</td>\n",
       "    </tr>\n",
       "  </tbody>\n",
       "</table>\n",
       "</div>"
      ],
      "text/plain": [
       "    Error_FedREG  Error_FedREG_std  Score_FedREG  Score_FedREG_std  \\\n",
       "19      3.852895          0.865665      0.925556          0.015813   \n",
       "\n",
       "    Error_FedAVG  Error_FedAVG_std  Score_FedAVG  Score_FedAVG_std  \n",
       "19      1.460994          0.850345      0.971789           0.01626  "
      ]
     },
     "execution_count": 14,
     "metadata": {},
     "output_type": "execute_result"
    }
   ],
   "source": [
    "test_family = 'NonLinearModel_NonLinearTask'\n",
    "test_name = 'test1'\n",
    "\n",
    "pd.read_csv(\"Results/Stationary/\"+test_family+\"/data/\"+test_name+\"_.csv\").tail(1)"
   ]
  }
 ],
 "metadata": {
  "kernelspec": {
   "display_name": "Python (federated)",
   "language": "python",
   "name": "federated"
  },
  "language_info": {
   "codemirror_mode": {
    "name": "ipython",
    "version": 3
   },
   "file_extension": ".py",
   "mimetype": "text/x-python",
   "name": "python",
   "nbconvert_exporter": "python",
   "pygments_lexer": "ipython3",
   "version": "3.8.5"
  }
 },
 "nbformat": 4,
 "nbformat_minor": 2
}
